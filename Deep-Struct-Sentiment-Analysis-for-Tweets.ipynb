{
 "cells": [
  {
   "cell_type": "markdown",
   "metadata": {},
   "source": [
    "# OPT 7 - Projet : Sentiment Analysis for Tweets"
   ]
  },
  {
   "cell_type": "markdown",
   "metadata": {},
   "source": [
    "**Théo Cornille - Mirwaisse Djanbaz - Luc Gibaud - Cédric des Lauriers**"
   ]
  },
  {
   "cell_type": "markdown",
   "metadata": {},
   "source": [
    "### Dataset : Sentiment dataset with 1.6 million tweets"
   ]
  },
  {
   "cell_type": "markdown",
   "metadata": {},
   "source": [
    "\"According to the creators of the dataset:\n",
    "\n",
    "\"Our approach was unique because our training data was automatically created, as opposed to having humans manual annotate tweets. In our approach, we assume that any tweet with positive emoticons, like 🙂, were positive, and tweets with negative emoticons, like 😞, were negative. We used the Twitter Search API to collect these tweets by using keyword search\"\n",
    "\n",
    "citation: Go, A., Bhayani, R. and Huang, L., 2009. Twitter sentiment classification using distant supervision. CS224N Project Report, Stanford, 1(2009), p.12"
   ]
  },
  {
   "cell_type": "markdown",
   "metadata": {},
   "source": [
    "## Présentation"
   ]
  },
  {
   "cell_type": "markdown",
   "metadata": {},
   "source": [
    "Nous disposons de 1.6 millions de tweets qui ont été extraits en utilisant l'API de Twitter. Ces tweets ont été annotés (0 = tweet négatif, 4 = tweet positif).\n",
    "\n",
    "Notre objectif est d'utiliser cette base de données afin de pouvoir prédir automatiquement le sentiment qu'un auteur a voulu donner à son tweet."
   ]
  },
  {
   "cell_type": "code",
   "execution_count": 188,
   "metadata": {
    "collapsed": true
   },
   "outputs": [],
   "source": [
    "import warnings\n",
    "from sklearn.exceptions import DataConversionWarning\n",
    "warnings.simplefilter(action='ignore', category=FutureWarning)\n",
    "warnings.simplefilter(action='ignore', category =RuntimeWarning)\n",
    "warnings.simplefilter(action='ignore', category=DataConversionWarning)"
   ]
  },
  {
   "cell_type": "code",
   "execution_count": 1,
   "metadata": {},
   "outputs": [
    {
     "name": "stderr",
     "output_type": "stream",
     "text": [
      "D:\\Programmes\\Anaconda2\\lib\\site-packages\\h5py\\__init__.py:34: FutureWarning: Conversion of the second argument of issubdtype from `float` to `np.floating` is deprecated. In future, it will be treated as `np.float64 == np.dtype(float).type`.\n",
      "  from ._conv import register_converters as _register_converters\n",
      "Using TensorFlow backend.\n"
     ]
    }
   ],
   "source": [
    "import os, string, collections\n",
    "import numpy as np\n",
    "import pandas as pd\n",
    "import matplotlib.pyplot as plt\n",
    "import seaborn as sn\n",
    "\n",
    "from utils import *\n",
    "import re\n",
    "\n",
    "from nltk.corpus import stopwords\n",
    "\n",
    "from sklearn.linear_model import LogisticRegression\n",
    "from sklearn.base import BaseEstimator, TransformerMixin\n",
    "from sklearn.model_selection import train_test_split, StratifiedKFold, cross_val_score\n",
    "from sklearn import metrics\n",
    "\n",
    "from keras.wrappers.scikit_learn import KerasClassifier\n",
    "from keras.preprocessing.sequence import pad_sequences\n",
    "from keras.models import Sequential, Model, load_model\n",
    "from keras.layers.embeddings import Embedding\n",
    "from keras.layers import Flatten, Dense, Dropout, Convolution1D, MaxPooling1D, SpatialDropout1D, Input \n",
    "from keras.layers import GlobalMaxPooling1D, concatenate, LSTM, Bidirectional, SimpleRNN, GRU\n",
    "from keras.optimizers import Adam\n",
    "from keras.utils import np_utils\n",
    "from keras.callbacks import ModelCheckpoint"
   ]
  },
  {
   "cell_type": "markdown",
   "metadata": {},
   "source": [
    "## I. Import et exploration de la base de données"
   ]
  },
  {
   "cell_type": "code",
   "execution_count": 2,
   "metadata": {
    "collapsed": true
   },
   "outputs": [],
   "source": [
    "filepath = r\"C:\\Users\\MyPC\\Documents\\AIC-partage\\Structured\\data\\training.1600000.processed.noemoticon.csv\""
   ]
  },
  {
   "cell_type": "code",
   "execution_count": 3,
   "metadata": {
    "collapsed": true
   },
   "outputs": [],
   "source": [
    "df = pd.read_csv(filepath, encoding = \"ISO-8859-1\", header = None, names = [\"target\", \"id\", \"date\", \"flag\", \"user\", \"text\"], sep =\",\")"
   ]
  },
  {
   "cell_type": "code",
   "execution_count": 4,
   "metadata": {},
   "outputs": [
    {
     "data": {
      "text/html": [
       "<div>\n",
       "<style scoped>\n",
       "    .dataframe tbody tr th:only-of-type {\n",
       "        vertical-align: middle;\n",
       "    }\n",
       "\n",
       "    .dataframe tbody tr th {\n",
       "        vertical-align: top;\n",
       "    }\n",
       "\n",
       "    .dataframe thead th {\n",
       "        text-align: right;\n",
       "    }\n",
       "</style>\n",
       "<table border=\"1\" class=\"dataframe\">\n",
       "  <thead>\n",
       "    <tr style=\"text-align: right;\">\n",
       "      <th></th>\n",
       "      <th>target</th>\n",
       "      <th>id</th>\n",
       "      <th>date</th>\n",
       "      <th>flag</th>\n",
       "      <th>user</th>\n",
       "      <th>text</th>\n",
       "    </tr>\n",
       "  </thead>\n",
       "  <tbody>\n",
       "    <tr>\n",
       "      <th>0</th>\n",
       "      <td>0</td>\n",
       "      <td>1467810369</td>\n",
       "      <td>Mon Apr 06 22:19:45 PDT 2009</td>\n",
       "      <td>NO_QUERY</td>\n",
       "      <td>_TheSpecialOne_</td>\n",
       "      <td>@switchfoot http://twitpic.com/2y1zl - Awww, t...</td>\n",
       "    </tr>\n",
       "    <tr>\n",
       "      <th>1</th>\n",
       "      <td>0</td>\n",
       "      <td>1467810672</td>\n",
       "      <td>Mon Apr 06 22:19:49 PDT 2009</td>\n",
       "      <td>NO_QUERY</td>\n",
       "      <td>scotthamilton</td>\n",
       "      <td>is upset that he can't update his Facebook by ...</td>\n",
       "    </tr>\n",
       "    <tr>\n",
       "      <th>2</th>\n",
       "      <td>0</td>\n",
       "      <td>1467810917</td>\n",
       "      <td>Mon Apr 06 22:19:53 PDT 2009</td>\n",
       "      <td>NO_QUERY</td>\n",
       "      <td>mattycus</td>\n",
       "      <td>@Kenichan I dived many times for the ball. Man...</td>\n",
       "    </tr>\n",
       "    <tr>\n",
       "      <th>3</th>\n",
       "      <td>0</td>\n",
       "      <td>1467811184</td>\n",
       "      <td>Mon Apr 06 22:19:57 PDT 2009</td>\n",
       "      <td>NO_QUERY</td>\n",
       "      <td>ElleCTF</td>\n",
       "      <td>my whole body feels itchy and like its on fire</td>\n",
       "    </tr>\n",
       "    <tr>\n",
       "      <th>4</th>\n",
       "      <td>0</td>\n",
       "      <td>1467811193</td>\n",
       "      <td>Mon Apr 06 22:19:57 PDT 2009</td>\n",
       "      <td>NO_QUERY</td>\n",
       "      <td>Karoli</td>\n",
       "      <td>@nationwideclass no, it's not behaving at all....</td>\n",
       "    </tr>\n",
       "  </tbody>\n",
       "</table>\n",
       "</div>"
      ],
      "text/plain": [
       "   target          id                          date      flag  \\\n",
       "0       0  1467810369  Mon Apr 06 22:19:45 PDT 2009  NO_QUERY   \n",
       "1       0  1467810672  Mon Apr 06 22:19:49 PDT 2009  NO_QUERY   \n",
       "2       0  1467810917  Mon Apr 06 22:19:53 PDT 2009  NO_QUERY   \n",
       "3       0  1467811184  Mon Apr 06 22:19:57 PDT 2009  NO_QUERY   \n",
       "4       0  1467811193  Mon Apr 06 22:19:57 PDT 2009  NO_QUERY   \n",
       "\n",
       "              user                                               text  \n",
       "0  _TheSpecialOne_  @switchfoot http://twitpic.com/2y1zl - Awww, t...  \n",
       "1    scotthamilton  is upset that he can't update his Facebook by ...  \n",
       "2         mattycus  @Kenichan I dived many times for the ball. Man...  \n",
       "3          ElleCTF    my whole body feels itchy and like its on fire   \n",
       "4           Karoli  @nationwideclass no, it's not behaving at all....  "
      ]
     },
     "execution_count": 4,
     "metadata": {},
     "output_type": "execute_result"
    }
   ],
   "source": [
    "df.head()"
   ]
  },
  {
   "cell_type": "markdown",
   "metadata": {},
   "source": [
    "La colonne \"target\" n'est composé que de 0 (=tweet négatif) et de 4 (=tweet positif). Afin de simplifier nous allons transformer les 4 et 1. Nous gardons donc:\n",
    "\n",
    "- 0 =tweet négatif\n",
    "- 1 = tweet positif"
   ]
  },
  {
   "cell_type": "code",
   "execution_count": 5,
   "metadata": {
    "collapsed": true
   },
   "outputs": [],
   "source": [
    "df.target = df.target.replace(4, 1)"
   ]
  },
  {
   "cell_type": "code",
   "execution_count": 6,
   "metadata": {
    "collapsed": true
   },
   "outputs": [],
   "source": [
    "df = df.iloc[:, [5, 0]]"
   ]
  },
  {
   "cell_type": "code",
   "execution_count": 7,
   "metadata": {
    "collapsed": true
   },
   "outputs": [],
   "source": [
    "df.columns = ['text', 'sentiment']"
   ]
  },
  {
   "cell_type": "code",
   "execution_count": 8,
   "metadata": {},
   "outputs": [
    {
     "data": {
      "text/html": [
       "<div>\n",
       "<style scoped>\n",
       "    .dataframe tbody tr th:only-of-type {\n",
       "        vertical-align: middle;\n",
       "    }\n",
       "\n",
       "    .dataframe tbody tr th {\n",
       "        vertical-align: top;\n",
       "    }\n",
       "\n",
       "    .dataframe thead th {\n",
       "        text-align: right;\n",
       "    }\n",
       "</style>\n",
       "<table border=\"1\" class=\"dataframe\">\n",
       "  <thead>\n",
       "    <tr style=\"text-align: right;\">\n",
       "      <th></th>\n",
       "      <th>text</th>\n",
       "      <th>sentiment</th>\n",
       "    </tr>\n",
       "  </thead>\n",
       "  <tbody>\n",
       "    <tr>\n",
       "      <th>0</th>\n",
       "      <td>@switchfoot http://twitpic.com/2y1zl - Awww, t...</td>\n",
       "      <td>0</td>\n",
       "    </tr>\n",
       "    <tr>\n",
       "      <th>1</th>\n",
       "      <td>is upset that he can't update his Facebook by ...</td>\n",
       "      <td>0</td>\n",
       "    </tr>\n",
       "    <tr>\n",
       "      <th>2</th>\n",
       "      <td>@Kenichan I dived many times for the ball. Man...</td>\n",
       "      <td>0</td>\n",
       "    </tr>\n",
       "    <tr>\n",
       "      <th>3</th>\n",
       "      <td>my whole body feels itchy and like its on fire</td>\n",
       "      <td>0</td>\n",
       "    </tr>\n",
       "    <tr>\n",
       "      <th>4</th>\n",
       "      <td>@nationwideclass no, it's not behaving at all....</td>\n",
       "      <td>0</td>\n",
       "    </tr>\n",
       "  </tbody>\n",
       "</table>\n",
       "</div>"
      ],
      "text/plain": [
       "                                                text  sentiment\n",
       "0  @switchfoot http://twitpic.com/2y1zl - Awww, t...          0\n",
       "1  is upset that he can't update his Facebook by ...          0\n",
       "2  @Kenichan I dived many times for the ball. Man...          0\n",
       "3    my whole body feels itchy and like its on fire           0\n",
       "4  @nationwideclass no, it's not behaving at all....          0"
      ]
     },
     "execution_count": 8,
     "metadata": {},
     "output_type": "execute_result"
    }
   ],
   "source": [
    "df.head()"
   ]
  },
  {
   "cell_type": "code",
   "execution_count": 9,
   "metadata": {
    "collapsed": true
   },
   "outputs": [],
   "source": [
    "# On limite pour le moment la taille du dataset pour accélérer les calculs\n",
    "df = df.sample(frac=1)\n",
    "df = df[:200000]\n",
    "df = df.reset_index(drop=True)"
   ]
  },
  {
   "cell_type": "code",
   "execution_count": 10,
   "metadata": {},
   "outputs": [
    {
     "data": {
      "text/plain": [
       "1    100145\n",
       "0     99855\n",
       "Name: sentiment, dtype: int64"
      ]
     },
     "execution_count": 10,
     "metadata": {},
     "output_type": "execute_result"
    }
   ],
   "source": [
    "df['sentiment'].value_counts()"
   ]
  },
  {
   "cell_type": "code",
   "execution_count": 11,
   "metadata": {},
   "outputs": [
    {
     "data": {
      "image/png": "[encoded data removed]",
      "text/plain": [
       "<matplotlib.figure.Figure at 0x2e4c5130a90>"
      ]
     },
     "metadata": {},
     "output_type": "display_data"
    }
   ],
   "source": [
    "df.groupby(['sentiment']).count().plot(kind='bar', figsize=(8, 6), rot=0, legend=False, title='Number of tweets by class')\n",
    "plt.show()"
   ]
  },
  {
   "cell_type": "markdown",
   "metadata": {},
   "source": [
    "## II. Preprocessing des données"
   ]
  },
  {
   "cell_type": "markdown",
   "metadata": {},
   "source": [
    "Text Cleaning"
   ]
  },
  {
   "cell_type": "code",
   "execution_count": 12,
   "metadata": {
    "collapsed": true
   },
   "outputs": [],
   "source": [
    "class TextCleaner(BaseEstimator, TransformerMixin):    \n",
    "    def remove_mentions(self, text):        \n",
    "        return re.sub(r'@\\w+', '', text)\n",
    "    \n",
    "    def remove_urls(self, text):        \n",
    "        return re.sub(r'http.?://[^\\s]+[\\s]?', '', text)\n",
    "    \n",
    "    def only_characters(self, text):\n",
    "        return re.sub('[^a-zA-Z\\s]', '', text)\n",
    "    \n",
    "    def remove_extra_spaces(self, text):\n",
    "        text = re.sub(\"\\s+\", ' ', text)\n",
    "        text = text.lstrip()\n",
    "        return text.rstrip()\n",
    "    \n",
    "    def to_lower(self, text):\n",
    "        return text.lower()\n",
    "    \n",
    "    def fix_words(self, text):\n",
    "        #text = re.sub(r'\\bthx\\b', 'thanks', text)\n",
    "        pass\n",
    "        \n",
    "    def fit(self, X, y=None, **fit_params):\n",
    "        return self\n",
    "    \n",
    "    def transform(self, X, **transform_params):        \n",
    "        clean_X = X.apply(self.remove_mentions).apply(self.remove_urls).apply(self.only_characters).apply(self.remove_extra_spaces).apply(self.to_lower)\n",
    "        return clean_X"
   ]
  },
  {
   "cell_type": "code",
   "execution_count": 13,
   "metadata": {
    "collapsed": true
   },
   "outputs": [],
   "source": [
    "tc = TextCleaner()\n",
    "df['clean_text'] = tc.transform(df['text'])"
   ]
  },
  {
   "cell_type": "code",
   "execution_count": 14,
   "metadata": {},
   "outputs": [
    {
     "data": {
      "text/html": [
       "<div>\n",
       "<style scoped>\n",
       "    .dataframe tbody tr th:only-of-type {\n",
       "        vertical-align: middle;\n",
       "    }\n",
       "\n",
       "    .dataframe tbody tr th {\n",
       "        vertical-align: top;\n",
       "    }\n",
       "\n",
       "    .dataframe thead th {\n",
       "        text-align: right;\n",
       "    }\n",
       "</style>\n",
       "<table border=\"1\" class=\"dataframe\">\n",
       "  <thead>\n",
       "    <tr style=\"text-align: right;\">\n",
       "      <th></th>\n",
       "      <th>text</th>\n",
       "      <th>sentiment</th>\n",
       "      <th>clean_text</th>\n",
       "    </tr>\n",
       "  </thead>\n",
       "  <tbody>\n",
       "    <tr>\n",
       "      <th>0</th>\n",
       "      <td>@tifftiff621 hmm, just realized it's 11. I hav...</td>\n",
       "      <td>0</td>\n",
       "      <td>hmm just realized its i have to be at school a...</td>\n",
       "    </tr>\n",
       "    <tr>\n",
       "      <th>1</th>\n",
       "      <td>@spectrummother Thank you for your kind words.</td>\n",
       "      <td>1</td>\n",
       "      <td>thank you for your kind words</td>\n",
       "    </tr>\n",
       "    <tr>\n",
       "      <th>2</th>\n",
       "      <td>@taylorswift13 , finally, someone spreading th...</td>\n",
       "      <td>1</td>\n",
       "      <td>finally someone spreading the hayley love via ...</td>\n",
       "    </tr>\n",
       "    <tr>\n",
       "      <th>3</th>\n",
       "      <td>ohhh i ate too much candy now i have a tummy a...</td>\n",
       "      <td>0</td>\n",
       "      <td>ohhh i ate too much candy now i have a tummy ache</td>\n",
       "    </tr>\n",
       "    <tr>\n",
       "      <th>4</th>\n",
       "      <td>@ClaireMcKenna1 I'll be there as soon as I can!</td>\n",
       "      <td>1</td>\n",
       "      <td>ill be there as soon as i can</td>\n",
       "    </tr>\n",
       "  </tbody>\n",
       "</table>\n",
       "</div>"
      ],
      "text/plain": [
       "                                                text  sentiment  \\\n",
       "0  @tifftiff621 hmm, just realized it's 11. I hav...          0   \n",
       "1   @spectrummother Thank you for your kind words.            1   \n",
       "2  @taylorswift13 , finally, someone spreading th...          1   \n",
       "3  ohhh i ate too much candy now i have a tummy a...          0   \n",
       "4   @ClaireMcKenna1 I'll be there as soon as I can!           1   \n",
       "\n",
       "                                          clean_text  \n",
       "0  hmm just realized its i have to be at school a...  \n",
       "1                      thank you for your kind words  \n",
       "2  finally someone spreading the hayley love via ...  \n",
       "3  ohhh i ate too much candy now i have a tummy ache  \n",
       "4                      ill be there as soon as i can  "
      ]
     },
     "execution_count": 14,
     "metadata": {},
     "output_type": "execute_result"
    }
   ],
   "source": [
    "df.head()"
   ]
  },
  {
   "cell_type": "markdown",
   "metadata": {},
   "source": [
    "Tokenizer"
   ]
  },
  {
   "cell_type": "code",
   "execution_count": 198,
   "metadata": {
    "collapsed": true
   },
   "outputs": [],
   "source": [
    "def tokenize(s): \n",
    "    return s.split()"
   ]
  },
  {
   "cell_type": "code",
   "execution_count": 16,
   "metadata": {
    "collapsed": true
   },
   "outputs": [],
   "source": [
    "df['tokenized'] = df['clean_text'].apply(lambda row: tokenize(row))"
   ]
  },
  {
   "cell_type": "code",
   "execution_count": 17,
   "metadata": {},
   "outputs": [
    {
     "data": {
      "text/html": [
       "<div>\n",
       "<style scoped>\n",
       "    .dataframe tbody tr th:only-of-type {\n",
       "        vertical-align: middle;\n",
       "    }\n",
       "\n",
       "    .dataframe tbody tr th {\n",
       "        vertical-align: top;\n",
       "    }\n",
       "\n",
       "    .dataframe thead th {\n",
       "        text-align: right;\n",
       "    }\n",
       "</style>\n",
       "<table border=\"1\" class=\"dataframe\">\n",
       "  <thead>\n",
       "    <tr style=\"text-align: right;\">\n",
       "      <th></th>\n",
       "      <th>text</th>\n",
       "      <th>sentiment</th>\n",
       "      <th>clean_text</th>\n",
       "      <th>tokenized</th>\n",
       "    </tr>\n",
       "  </thead>\n",
       "  <tbody>\n",
       "    <tr>\n",
       "      <th>0</th>\n",
       "      <td>@tifftiff621 hmm, just realized it's 11. I hav...</td>\n",
       "      <td>0</td>\n",
       "      <td>hmm just realized its i have to be at school a...</td>\n",
       "      <td>[hmm, just, realized, its, i, have, to, be, at...</td>\n",
       "    </tr>\n",
       "    <tr>\n",
       "      <th>1</th>\n",
       "      <td>@spectrummother Thank you for your kind words.</td>\n",
       "      <td>1</td>\n",
       "      <td>thank you for your kind words</td>\n",
       "      <td>[thank, you, for, your, kind, words]</td>\n",
       "    </tr>\n",
       "    <tr>\n",
       "      <th>2</th>\n",
       "      <td>@taylorswift13 , finally, someone spreading th...</td>\n",
       "      <td>1</td>\n",
       "      <td>finally someone spreading the hayley love via ...</td>\n",
       "      <td>[finally, someone, spreading, the, hayley, lov...</td>\n",
       "    </tr>\n",
       "    <tr>\n",
       "      <th>3</th>\n",
       "      <td>ohhh i ate too much candy now i have a tummy a...</td>\n",
       "      <td>0</td>\n",
       "      <td>ohhh i ate too much candy now i have a tummy ache</td>\n",
       "      <td>[ohhh, i, ate, too, much, candy, now, i, have,...</td>\n",
       "    </tr>\n",
       "    <tr>\n",
       "      <th>4</th>\n",
       "      <td>@ClaireMcKenna1 I'll be there as soon as I can!</td>\n",
       "      <td>1</td>\n",
       "      <td>ill be there as soon as i can</td>\n",
       "      <td>[ill, be, there, as, soon, as, i, can]</td>\n",
       "    </tr>\n",
       "  </tbody>\n",
       "</table>\n",
       "</div>"
      ],
      "text/plain": [
       "                                                text  sentiment  \\\n",
       "0  @tifftiff621 hmm, just realized it's 11. I hav...          0   \n",
       "1   @spectrummother Thank you for your kind words.            1   \n",
       "2  @taylorswift13 , finally, someone spreading th...          1   \n",
       "3  ohhh i ate too much candy now i have a tummy a...          0   \n",
       "4   @ClaireMcKenna1 I'll be there as soon as I can!           1   \n",
       "\n",
       "                                          clean_text  \\\n",
       "0  hmm just realized its i have to be at school a...   \n",
       "1                      thank you for your kind words   \n",
       "2  finally someone spreading the hayley love via ...   \n",
       "3  ohhh i ate too much candy now i have a tummy ache   \n",
       "4                      ill be there as soon as i can   \n",
       "\n",
       "                                           tokenized  \n",
       "0  [hmm, just, realized, its, i, have, to, be, at...  \n",
       "1               [thank, you, for, your, kind, words]  \n",
       "2  [finally, someone, spreading, the, hayley, lov...  \n",
       "3  [ohhh, i, ate, too, much, candy, now, i, have,...  \n",
       "4             [ill, be, there, as, soon, as, i, can]  "
      ]
     },
     "execution_count": 17,
     "metadata": {},
     "output_type": "execute_result"
    }
   ],
   "source": [
    "df.head()"
   ]
  },
  {
   "cell_type": "markdown",
   "metadata": {},
   "source": [
    "remove stopwords"
   ]
  },
  {
   "cell_type": "code",
   "execution_count": 18,
   "metadata": {
    "collapsed": true
   },
   "outputs": [],
   "source": [
    "#nltk.download('stopwords')"
   ]
  },
  {
   "cell_type": "code",
   "execution_count": 19,
   "metadata": {
    "collapsed": true
   },
   "outputs": [],
   "source": [
    "stop = set(stopwords.words('english'))\n",
    "stop.update(['amp', 'rt', 'cc'])\n",
    "stop = stop - set(['no', 'not'])"
   ]
  },
  {
   "cell_type": "code",
   "execution_count": 20,
   "metadata": {
    "collapsed": true
   },
   "outputs": [],
   "source": [
    "def remove_stopwords(row):\n",
    "    return [t for t in row if t not in stop]"
   ]
  },
  {
   "cell_type": "code",
   "execution_count": 21,
   "metadata": {
    "collapsed": true
   },
   "outputs": [],
   "source": [
    "df['tokenized'] = df['tokenized'].apply(lambda row: remove_stopwords(row))"
   ]
  },
  {
   "cell_type": "code",
   "execution_count": 22,
   "metadata": {
    "collapsed": true
   },
   "outputs": [],
   "source": [
    "pd.set_option('display.max_colwidth', -1)"
   ]
  },
  {
   "cell_type": "code",
   "execution_count": 23,
   "metadata": {},
   "outputs": [
    {
     "data": {
      "text/html": [
       "<div>\n",
       "<style scoped>\n",
       "    .dataframe tbody tr th:only-of-type {\n",
       "        vertical-align: middle;\n",
       "    }\n",
       "\n",
       "    .dataframe tbody tr th {\n",
       "        vertical-align: top;\n",
       "    }\n",
       "\n",
       "    .dataframe thead th {\n",
       "        text-align: right;\n",
       "    }\n",
       "</style>\n",
       "<table border=\"1\" class=\"dataframe\">\n",
       "  <thead>\n",
       "    <tr style=\"text-align: right;\">\n",
       "      <th></th>\n",
       "      <th>text</th>\n",
       "      <th>tokenized</th>\n",
       "    </tr>\n",
       "  </thead>\n",
       "  <tbody>\n",
       "    <tr>\n",
       "      <th>0</th>\n",
       "      <td>@tifftiff621 hmm, just realized it's 11. I have to be at school at 12. and I have a 45 min drive  ouch. I'll chat when i get back.</td>\n",
       "      <td>[hmm, realized, school, min, drive, ouch, ill, chat, get, back]</td>\n",
       "    </tr>\n",
       "    <tr>\n",
       "      <th>1</th>\n",
       "      <td>@spectrummother Thank you for your kind words.</td>\n",
       "      <td>[thank, kind, words]</td>\n",
       "    </tr>\n",
       "    <tr>\n",
       "      <th>2</th>\n",
       "      <td>@taylorswift13 , finally, someone spreading the Hayley Love via Twitter. Welcome to the club, Taylor.</td>\n",
       "      <td>[finally, someone, spreading, hayley, love, via, twitter, welcome, club, taylor]</td>\n",
       "    </tr>\n",
       "    <tr>\n",
       "      <th>3</th>\n",
       "      <td>ohhh i ate too much candy now i have a tummy ache</td>\n",
       "      <td>[ohhh, ate, much, candy, tummy, ache]</td>\n",
       "    </tr>\n",
       "    <tr>\n",
       "      <th>4</th>\n",
       "      <td>@ClaireMcKenna1 I'll be there as soon as I can!</td>\n",
       "      <td>[ill, soon]</td>\n",
       "    </tr>\n",
       "  </tbody>\n",
       "</table>\n",
       "</div>"
      ],
      "text/plain": [
       "                                                                                                                                 text  \\\n",
       "0  @tifftiff621 hmm, just realized it's 11. I have to be at school at 12. and I have a 45 min drive  ouch. I'll chat when i get back.   \n",
       "1  @spectrummother Thank you for your kind words.                                                                                       \n",
       "2  @taylorswift13 , finally, someone spreading the Hayley Love via Twitter. Welcome to the club, Taylor.                                \n",
       "3  ohhh i ate too much candy now i have a tummy ache                                                                                    \n",
       "4  @ClaireMcKenna1 I'll be there as soon as I can!                                                                                      \n",
       "\n",
       "                                                                          tokenized  \n",
       "0  [hmm, realized, school, min, drive, ouch, ill, chat, get, back]                   \n",
       "1  [thank, kind, words]                                                              \n",
       "2  [finally, someone, spreading, hayley, love, via, twitter, welcome, club, taylor]  \n",
       "3  [ohhh, ate, much, candy, tummy, ache]                                             \n",
       "4  [ill, soon]                                                                       "
      ]
     },
     "execution_count": 23,
     "metadata": {},
     "output_type": "execute_result"
    }
   ],
   "source": [
    "df[['text', 'tokenized']].head()"
   ]
  },
  {
   "cell_type": "markdown",
   "metadata": {},
   "source": [
    "### Création du vocabulaire"
   ]
  },
  {
   "cell_type": "code",
   "execution_count": 24,
   "metadata": {
    "collapsed": true
   },
   "outputs": [],
   "source": [
    "def update_vocab_counter(row):\n",
    "    for word in row:\n",
    "        vocab_counter[word] += 1"
   ]
  },
  {
   "cell_type": "code",
   "execution_count": 25,
   "metadata": {
    "collapsed": true
   },
   "outputs": [],
   "source": [
    "vocab_counter = collections.Counter()\n",
    "df['tokenized'].apply(update_vocab_counter);\n",
    "vocab = sorted(vocab_counter, key=vocab_counter.get, reverse=True)"
   ]
  },
  {
   "cell_type": "code",
   "execution_count": 26,
   "metadata": {},
   "outputs": [
    {
     "data": {
      "text/plain": [
       "102003"
      ]
     },
     "execution_count": 26,
     "metadata": {},
     "output_type": "execute_result"
    }
   ],
   "source": [
    "len(vocab)"
   ]
  },
  {
   "cell_type": "code",
   "execution_count": 27,
   "metadata": {
    "collapsed": true
   },
   "outputs": [],
   "source": [
    "import operator\n",
    "words_count = sorted(vocab_counter.items(), key=operator.itemgetter(1), reverse=True)"
   ]
  },
  {
   "cell_type": "code",
   "execution_count": 28,
   "metadata": {
    "collapsed": true
   },
   "outputs": [],
   "source": [
    "rank=[]\n",
    "frequency=[]\n",
    "for i, c in enumerate(words_count):\n",
    "    rank.append(i)\n",
    "    frequency.append(c[1])"
   ]
  },
  {
   "cell_type": "code",
   "execution_count": 29,
   "metadata": {},
   "outputs": [
    {
     "data": {
      "image/png": "[encoded data removed]",
      "text/plain": [
       "<matplotlib.figure.Figure at 0x2e4eea53f98>"
      ]
     },
     "metadata": {},
     "output_type": "display_data"
    }
   ],
   "source": [
    "plt.plot(rank[:1000], frequency[:1000])\n",
    "plt.show()"
   ]
  },
  {
   "cell_type": "code",
   "execution_count": 30,
   "metadata": {
    "scrolled": true
   },
   "outputs": [
    {
     "name": "stdout",
     "output_type": "stream",
     "text": [
      "['im', 'not', 'good', 'day', 'get', 'like', 'go', 'no', 'dont', 'going', 'love', 'today', 'work', 'cant', 'got', 'back', 'time', 'lol', 'u', 'know', 'one', 'really', 'see', 'well', 'still', 'new', 'night', 'want', 'think', 'home', 'thanks', 'oh', 'last', 'much', 'need', 'miss', 'morning', 'hope', 'great', 'ill', 'tomorrow', 'twitter', 'haha', 'feel', 'thats', 'sad', 'fun', 'right', 'wish', 'didnt', 'sleep', 'would', 'bad', 'happy', 'sorry', 'tonight', 'come', 'make', 'way', 'getting', 'gonna', 'though', 'better', 'watching', 'ive', 'nice', 'bed', 'yeah', 'wait', 'could', 'youre', 'school', 'week', 'hate', 'people', 'days', 'even', 'hey', 'awesome', 'next', 'weekend', 'thank', 'yes', 'soon', 'never', 'little', 'long', 'working', 'say', 'take', 'please', 'watch', 'first', 'tired', 'best', 'wanna', 'feeling', 'show', 'ok', 'done', 'x', 'wont', 'sick', 'always', 'everyone', 'friends', 'life', 'thing', 'us', 'already', 'sure', 'another', 'made', 'cool', 'looking', 'something', 'find', 'ready', 'guys', 'yay', 'doesnt', 'lt', 'phone', 'yet', 'man', 'hours', 'went', 'ur', 'look', 'pretty', 'movie', 'house', 'trying', 'finally', 'ever', 'away', 'old', 'let', 'maybe', 'summer', 'lost', 'left', 'omg', 'help', 'things', 'keep', 'guess', 'someone', 'damn', 'tweet', 'amazing', 'bit', 'missed', 'hot', 'thought', 'big', 'havent', 'follow', 'early', 'year', 'wow', 'start', 'nothing', 'tell', 'sucks', 'also', 'glad', 'birthday', 'n', 'rain', 'looks', 'bored', 'live', 'actually', 'coming', 'weather', 'baby', 'girl', 'ya', 'two', 'hes', 'friend', 'play', 'makes', 'song', 'later', 'sun', 'might', 'try', 'th', 'excited', 'since', 'waiting', 'said', 'hear', 'saw', 'hard', 'hi', 'stuff', 'world', 'isnt', 'game', 'ugh', 'party', 'yesterday', 'lot', 'job', 'id', 'late', 'god', 'luck', 'check', 'gotta', 'music', 'many', 'around', 'read', 'must', 'sounds', 'head', 'whats', 'give', 'found', 'car', 'friday', 'cold', 'beautiful', 'gone', 'monday', 'aww', 'may', 'sunday', 'put', 'okay', 'mom', 'till', 'call', 'talk', 'missing', 'anything', 'poor', 'making', 'stop', 'hurts', 'woke', 'least', 'cute', 'family', 'leave', 'listening', 'almost', 'food', 'iphone', 'lunch', 'times', 'wanted', 'tho', 'funny', 'finished', 'theres', 'eat', 'forward', 'hour', 'end', 'playing', 'without', 'enjoy', 'dinner', 'followers', 'hair', 'use', 'mean', 'far', 'anyone', 'believe', 'shes', 'free', 'cause', 'real', 'thinking', 'sweet', 'welcome', 'hahaha', 'totally', 'coffee', 'outside', 'everything', 'w', 'shit', 'buy', 'couldnt', 'every', 'enough', 'wasnt', 'busy', 'stupid', 'money', 'video', 'mine', 'wrong', 'r', 'probably', 'weeks', 'xx', 'stay', 'wants', 'anymore', 'sooo', 'hell', 'tv', 'b', 'place', 'following', 'room', 'tweets', 'kinda', 'news', 'came', 'saturday', 'eating', 'whole', 'lovely', 'hopefully', 'headache', 'seen', 'class', 'says', 'win', 'pic', 'ha', 'beach', 'taking', 'took', 'crazy', 'super', 'else', 'theyre', 'sitting', 'hello', 'post', 'kids', 'guy', 'idea', 'girls', 'true', 'able', 'goodnight', 'hurt', 'exam', 'face', 'pm', 'years', 'awww', 'lots', 'half', 'meet', 'seems', 'name', 'feels', 'dog', 'lets', 'computer', 'dad', 'send', 'reading', 'either', 'rest', 'stuck', 'remember', 'heard', 'watched', 'ago', 'started', 'soo', 'boo', 'forgot', 'used', 'cuz', 'needs', 'heart', 'leaving', 'fuck', 'shopping', 'trip', 'full', 'ah', 'part', 'course', 'seeing', 'mind', 'raining', 'alone', 'talking', 'hit', 'kind', 'book', 'run', 'quite', 'blog', 'pics', 'internet', 'using', 'la', 'st', 'loved', 'office', 'told', 'boy', 'tried', 'starting', 'add', 'hehe', 'breakfast', 'care', 'person', 'break', 'picture', 'gets', 'lucky', 'pain', 'goes', 'youll', 'online', 'cry', 'minutes', 'open', 'til', 'btw', 'fine', 'season', 'seriously', 'awake', 'change', 'link', 'facebook', 'sleeping', 'update', 'called', 'bought', 'dude', 'boring', 'email', 'ass', 'sunny', 'bring', 'asleep', 'wake', 'hoping', 'anyway', 'study', 'concert', 'nite', 'walk', 'rock', 'pay', 'lmao', 'heading', 'crap', 'train', 'dear', 'june', 'enjoying', 'hungry', 'afternoon', 'shower', 'exams', 'favorite', 'site', 'mothers', 'aw', 'sore', 'works', 'happened', 'instead', 'broke', 'mad', 'fan', 'city', 'boys', 'ones', 'drive', 'ice', 'wonderful', 'text', 'finish', 'congrats', 'month', 'yea', 'eyes', 'reply', 'running', 'goin', 'xd', 'loves', 'album', 'problem', 'bye', 'fail', 'red', 'ask', 'p', 'comes', 'means', 'couple', 'fucking', 'sometimes', 'bout', 'together', 'dream', 'soooo', 'bday', 'move', 'write', 'wouldnt', 'dead', 'tea', 'months', 'sister', 'jealous', 'arent', 'definitely', 'laptop', 'ipod', 'homework', 'high', 'movies', 'weird', 'tickets', 'evening', 'sound', 'gt', 'gym', 'lil', 'youtube', 'reason', 'ppl', 'tour', 'cut', 'test', 'died', 'final', 'fb', 'visit', 'church', 'clean', 'loving', 'suck', 'side', 'happen', 'top', 'catch', 'studying', 'fall', 'water', 'close', 'seem', 'drink', 'less', 'set', 'moment', 'sigh', 'nd', 'hang', 'dance', 'nap', 'interesting', 'ps', 'aint', 'ate', 'list', 'mood', 'air', 'second', 'brother', 'store', 'songs', 'cream', 'town', 'listen', 'ahh', 'fast', 'pick', 'saying', 'photo', 'turn', 'c', 'cannot', 'short', 'perfect', 'english', 'pool', 'london', 'past', 'page', 'via', 'cat', 'sent', 'yall', 'writing', 'followfriday', 'story', 'meeting', 'broken', 'word', 'xxx', 'agree', 'worst', 'dreams', 'gave', 'mac', 'black', 'awards', 'throat', 'worth', 'driving', 'knew', 'slow', 'unfortunately', 'wedding', 'college', 'youve', 'hugs', 'jonas', 'yep', 'smile', 'pictures', 'wishing', 'point', 'understand', 'bet', 'lady', 'star', 'worse', 'chocolate', 'three', 'em', 'da', 'moving', 'cleaning', 'moon', 'ride', 'tweeting', 'apparently', 'sunshine', 'account', 'longer', 'supposed', 'fell', 'horrible', 'hows', 'sleepy', 'updates', 'forget', 'hanging', 'mum', 'hmm', 'join', 'spend', 'wonder', 'plan', 'vote', 'episode', 'parents', 'e', 'rather', 'sat', 'green', 'scared', 'flight', 'body', 'date', 'park', 'flu', 'easy', 'earlier', 'k', 'especially', 'drinking', 'huge', 'miley', 'message', 'voice', 'upset', 'chat', 'shows', 'due', 'brothers', 'hand', 'holiday', 'wondering', 'support', 'plus', 'worry', 'thx', 'tummy', 'learn', 'tuesday', 'nope', 'itll', 'white', 'stomach', 'chance', 'figure', 'wtf', 'plans', 'shame', 'shoes', 'special', 'mtv', 'slept', 'answer', 'meant', 'number', 'die', 'spent', 'fans', 'team', 'officially', 'fair', 'hrs', 'sadly', 'words', 'mins', 'july', 'sims', 'cos', 'myspace', 'lame', 'tom', 'photos', 'safe', 'finals', 'vacation', 'liked', 'bus', 'lazy', 'mr', 'boyfriend', 'kid', 'shop', 'radio', 'wear', 'beat', 'website', 'thursday', 'gorgeous', 'idk', 'yummy', 'proud', 'thinks', 'nights', 'yup', 'ahhh', 'son', 'games', 'uk', 'wishes', 'david', 'garden', 'scary', 'felt', 'beer', 'looked', 'feet', 'forever', 'band', 'bbq', 'twilight', 'absolutely', 'books', 'met', 'hospital', 'crying', 'yo', 'g', 'blue', 'inside', 'needed', 'dress', 'keeps', 'camera', 'wit', 'played', 'cake', 'shall', 'question', 'wednesday', 'project', 'lonely', 'taken', 'pizza', 'packing', 'kill', 'small', 'graduation', 'front', 'fix', 'clothes', 'different', 'line', 'road', 'google', 'cup', 'paper', 'quot', 'jus', 'living', 'hug', 'annoying', 'chicken', 'xoxo', 'babe', 'sign', 'bro', 'decided', 'dm', 'goodbye', 'warm', 'except', 'service', 'alright', 'apple', 'hubby', 'worked', 'enjoyed', 'rainy', 'exactly', 'exciting', 'waking', 'bike', 'bummed', 'bc', 'french', 'rip', 'behind', 'starts', 'random', 'sit', 'touch', 'film', 'staying', 'power', 'airport', 'comment', 'l', 'bb', 'vegas', 'although', 'passed', 'everybody', 'whatever', 'knows', 'card', 'lakers', 'terrible', 'fact', 'ran', 'app', 'wine', 'killing', 'hates', 'laugh', 'along', 'happens', 'eye', 'luv', 'watchin', 'turned', 'hold', 'min', 'case', 'revision', 'share', 'save', 'club', 'company', 'hasnt', 'history', 'giving', 'fantastic', 'download', 'ahead', 'eh', 'silly', 'walking', 'woo', 'currently', 'headed', 'relaxing', 'exhausted', 'round', 'alot', 'cd', 'bloody', 'posted', 'lose', 'shoot', 'sold', 'single', 'moms', 'near', 'minute', 'web', 'mother', 'fly', 'order', 'realized', 'changed', 'pass', 'asked', 'disappointed', 'gettin', 'nearly', 'quick', 'ouch', 'interview', 'serious', 'matter', 'group', 'box', 'drunk', 'closed', 'sing', 'vip', 'whos', 'country', 'fingers', 'fathers', 'hotel', 'singing', 'na', 'completely', 'yum', 'videos', 'guitar', 'traffic', 'freaking', 'death', 'deal', 'rd', 'upload', 'camp', 'worried', 'hangover', 'fml', 'ended', 'sis', 'business', 'maths', 'plane', 'pissed', 'dying', 'wearing', 'art', 'bar', 'window', 'others', 'fight', 'doin', 'fixed', 'hahah', 'bitch', 'ff', 'caught', 'indeed', 'def', 'ohh', 'lately', 'magic', 'door', 'note', 'v', 'nyc', 'husband', 'training', 'argh', 'shot', 'shirt', 'version', 'chillin', 'peace', 'hands', 'daughter', 'info', 'tweetdeck', 'awful', 'mommy', 'dogs', 'wife', 'legs', 'pc', 'dark', 'self', 'shouldnt', 'hmmm', 'doubt', 'somewhere', 'problems', 'mall', 'classes']\n"
     ]
    }
   ],
   "source": [
    "#top 1000 des tokens les plus fréquents\n",
    "print(vocab[:1000])"
   ]
  },
  {
   "cell_type": "code",
   "execution_count": 31,
   "metadata": {
    "collapsed": true
   },
   "outputs": [],
   "source": [
    "#On limite la taille du dictionnaire aux 100000 tokens les plus fréquents\n",
    "max_words = 5000"
   ]
  },
  {
   "cell_type": "code",
   "execution_count": 32,
   "metadata": {
    "collapsed": true
   },
   "outputs": [],
   "source": [
    "#Dictionnaire qui map les tokens avec leur ID."
   ]
  },
  {
   "cell_type": "code",
   "execution_count": 33,
   "metadata": {
    "collapsed": true
   },
   "outputs": [],
   "source": [
    "w2id = {w:i for i, w in enumerate(vocab[:max_words])}"
   ]
  },
  {
   "cell_type": "code",
   "execution_count": 34,
   "metadata": {
    "collapsed": true
   },
   "outputs": [],
   "source": [
    "#On remplace les autres tokens par unk"
   ]
  },
  {
   "cell_type": "code",
   "execution_count": 35,
   "metadata": {
    "collapsed": true
   },
   "outputs": [],
   "source": [
    "w2id['unk'] = 0"
   ]
  },
  {
   "cell_type": "code",
   "execution_count": 36,
   "metadata": {
    "collapsed": true
   },
   "outputs": [],
   "source": [
    "def transform_to_ids(row):\n",
    "    return [w2id[w] if w in w2id else w2id['unk'] for w in row]"
   ]
  },
  {
   "cell_type": "code",
   "execution_count": 37,
   "metadata": {
    "collapsed": true
   },
   "outputs": [],
   "source": [
    "df['tokenized_int'] = df['tokenized'].apply(lambda x: transform_to_ids(x))"
   ]
  },
  {
   "cell_type": "markdown",
   "metadata": {},
   "source": [
    "## Naive Bayes"
   ]
  },
  {
   "cell_type": "markdown",
   "metadata": {},
   "source": [
    "A la place d'utiliser juste la fréquence des termes, on choisit d'utiliser tf-idf pour apporter plus de justesse dans notre classification\n",
    "On peut également vectoriser en bi-gramme, tri-gramme."
   ]
  },
  {
   "cell_type": "markdown",
   "metadata": {},
   "source": [
    "**Split dataset into train and valid**"
   ]
  },
  {
   "cell_type": "markdown",
   "metadata": {},
   "source": [
    "Tf-idf"
   ]
  },
  {
   "cell_type": "code",
   "execution_count": 38,
   "metadata": {
    "collapsed": true
   },
   "outputs": [],
   "source": [
    "from sklearn.feature_extraction.text import TfidfVectorizer\n",
    "\n",
    "vect = TfidfVectorizer(strip_accents='unicode', tokenizer=tokenize, ngram_range=(1, 2), max_df=0.75, min_df=3, sublinear_tf=True)"
   ]
  },
  {
   "cell_type": "code",
   "execution_count": 39,
   "metadata": {
    "collapsed": true
   },
   "outputs": [],
   "source": [
    "X_train, X_valid, y_train, y_valid = train_test_split(df['clean_text'].values, df['sentiment'].values, test_size=0.20, random_state=42)"
   ]
  },
  {
   "cell_type": "code",
   "execution_count": 40,
   "metadata": {
    "collapsed": true
   },
   "outputs": [],
   "source": [
    "tfidf_train = vect.fit_transform(X_train)\n",
    "tfidf_valid = vect.transform(X_valid)"
   ]
  },
  {
   "cell_type": "code",
   "execution_count": 41,
   "metadata": {
    "collapsed": true
   },
   "outputs": [],
   "source": [
    "def naive_bayes(x, y):\n",
    "    r = []; b = []\n",
    "    labels = np.unique(y)\n",
    "\n",
    "    for l in labels:\n",
    "        other_l = labels[labels != l]\n",
    "        p = x[y == l].sum(0) + 1 #sum of tfidf vectors of label = 1\n",
    "        q = x[y == other_l].sum(0) + 1 #sum of tfidf vectors of label = 0\n",
    "        r.append(np.log((p/p.sum())/(q/q.sum()))) #log ratio\n",
    "        b.append(np.log(len(p)/len(q))) #ratio of position and negative\n",
    "    \n",
    "    return r, b"
   ]
  },
  {
   "cell_type": "code",
   "execution_count": 42,
   "metadata": {
    "collapsed": true
   },
   "outputs": [],
   "source": [
    "r, b = naive_bayes(tfidf_train, y_train)\n",
    "\n",
    "pre_preds = []\n",
    "for j in range(len(r)):\n",
    "    pre_preds.append(np.asarray(tfidf_valid @ r[j].T + b[j]).reshape(-1))\n",
    "arr = np.array(pre_preds)"
   ]
  },
  {
   "cell_type": "code",
   "execution_count": 43,
   "metadata": {},
   "outputs": [
    {
     "data": {
      "text/plain": [
       "0.788875"
      ]
     },
     "execution_count": 43,
     "metadata": {},
     "output_type": "execute_result"
    }
   ],
   "source": [
    "metrics.accuracy_score(y_valid, np.argmax(arr.T, axis=1))"
   ]
  },
  {
   "cell_type": "code",
   "execution_count": 44,
   "metadata": {},
   "outputs": [
    {
     "name": "stdout",
     "output_type": "stream",
     "text": [
      "              precision    recall  f1-score   support\n",
      "\n",
      "           0       0.78      0.81      0.79     20015\n",
      "           1       0.80      0.77      0.78     19985\n",
      "\n",
      "   micro avg       0.79      0.79      0.79     40000\n",
      "   macro avg       0.79      0.79      0.79     40000\n",
      "weighted avg       0.79      0.79      0.79     40000\n",
      "\n"
     ]
    }
   ],
   "source": [
    "print(metrics.classification_report(y_valid, np.argmax(arr.T, axis=1)))"
   ]
  },
  {
   "cell_type": "code",
   "execution_count": 45,
   "metadata": {},
   "outputs": [
    {
     "data": {
      "image/png": "[encoded data removed]",
      "text/plain": [
       "<matplotlib.figure.Figure at 0x2e4ed3fbf60>"
      ]
     },
     "metadata": {},
     "output_type": "display_data"
    }
   ],
   "source": [
    "array = metrics.confusion_matrix(y_valid, np.argmax(arr.T, axis=1))\n",
    "array = array.astype('float') / array.sum(axis=1)[:, np.newaxis]\n",
    "\n",
    "df_cm = pd.DataFrame(array, range(2),range(2))\n",
    "#plt.figure(figsize = (10,7))\n",
    "sn.set(font_scale=1.4)#for label size\n",
    "sn.heatmap(df_cm, annot=True,annot_kws={\"size\": 16})# font size\n",
    "plt.xlabel('Classe prédite')\n",
    "plt.ylabel('Classe réelle')\n",
    "plt.show()"
   ]
  },
  {
   "cell_type": "markdown",
   "metadata": {},
   "source": [
    "## Logistic Regression"
   ]
  },
  {
   "cell_type": "markdown",
   "metadata": {},
   "source": [
    "Cross validation with 5 folds"
   ]
  },
  {
   "cell_type": "code",
   "execution_count": 46,
   "metadata": {},
   "outputs": [
    {
     "name": "stderr",
     "output_type": "stream",
     "text": [
      "D:\\Programmes\\Anaconda2\\lib\\site-packages\\sklearn\\linear_model\\logistic.py:432: FutureWarning: Default solver will be changed to 'lbfgs' in 0.22. Specify a solver to silence this warning.\n",
      "  FutureWarning)\n"
     ]
    },
    {
     "data": {
      "text/plain": [
       "LogisticRegression(C=1.0, class_weight=None, dual=False, fit_intercept=True,\n",
       "          intercept_scaling=1, max_iter=100, multi_class='warn',\n",
       "          n_jobs=None, penalty='l2', random_state=None, solver='warn',\n",
       "          tol=0.0001, verbose=0, warm_start=False)"
      ]
     },
     "execution_count": 46,
     "metadata": {},
     "output_type": "execute_result"
    }
   ],
   "source": [
    "model = LogisticRegression()\n",
    "model.fit(tfidf_train, y_train)"
   ]
  },
  {
   "cell_type": "code",
   "execution_count": 47,
   "metadata": {},
   "outputs": [
    {
     "name": "stdout",
     "output_type": "stream",
     "text": [
      "accuracy: 0.802875\n"
     ]
    }
   ],
   "source": [
    "preds = model.predict(tfidf_valid)\n",
    "accuracy = (preds == y_valid).mean()\n",
    "print('accuracy:', accuracy)"
   ]
  },
  {
   "cell_type": "code",
   "execution_count": 48,
   "metadata": {},
   "outputs": [
    {
     "name": "stdout",
     "output_type": "stream",
     "text": [
      "              precision    recall  f1-score   support\n",
      "\n",
      "           0       0.81      0.80      0.80     20015\n",
      "           1       0.80      0.81      0.80     19985\n",
      "\n",
      "   micro avg       0.80      0.80      0.80     40000\n",
      "   macro avg       0.80      0.80      0.80     40000\n",
      "weighted avg       0.80      0.80      0.80     40000\n",
      "\n"
     ]
    }
   ],
   "source": [
    "print(metrics.classification_report(y_valid, preds))"
   ]
  },
  {
   "cell_type": "markdown",
   "metadata": {},
   "source": [
    "**Visualisation des tokens**"
   ]
  },
  {
   "cell_type": "code",
   "execution_count": 49,
   "metadata": {
    "collapsed": true
   },
   "outputs": [],
   "source": [
    "def get_tokens_coefs(vocab, coefs, n):\n",
    "    coef_df = pd.DataFrame({'vocab': vocab, 'coef':coefs.reshape(-1)})\n",
    "    return coef_df.sort_values('coef', ascending=False).reset_index(drop=True)[:n]"
   ]
  },
  {
   "cell_type": "code",
   "execution_count": 50,
   "metadata": {
    "collapsed": true
   },
   "outputs": [],
   "source": [
    "def plot_tokens_coefs(df, ax, label):\n",
    "    df.sort_values('coef').plot.barh(legend=False, ax=ax)\n",
    "    ax.set_yticklabels(df['vocab'].values.tolist()[::-1])\n",
    "    ax.set_title(label);"
   ]
  },
  {
   "cell_type": "code",
   "execution_count": 51,
   "metadata": {
    "collapsed": true
   },
   "outputs": [],
   "source": [
    "plt.rc('xtick', labelsize=14)\n",
    "plt.rc('ytick', labelsize=14)\n",
    "sn.set_style(style='white')"
   ]
  },
  {
   "cell_type": "code",
   "execution_count": 52,
   "metadata": {},
   "outputs": [
    {
     "data": {
      "text/plain": [
       "array([ 1.00841151,  0.39923298, -0.77764772, ...,  0.10981471,\n",
       "        0.14810159, -0.03228473])"
      ]
     },
     "execution_count": 52,
     "metadata": {},
     "output_type": "execute_result"
    }
   ],
   "source": [
    "model.coef_[0]"
   ]
  },
  {
   "cell_type": "code",
   "execution_count": 53,
   "metadata": {},
   "outputs": [
    {
     "data": {
      "text/plain": [
       "(1, 95990)"
      ]
     },
     "execution_count": 53,
     "metadata": {},
     "output_type": "execute_result"
    }
   ],
   "source": [
    "model.coef_.shape"
   ]
  },
  {
   "cell_type": "code",
   "execution_count": 54,
   "metadata": {
    "collapsed": true
   },
   "outputs": [],
   "source": [
    "vocab = vect.get_feature_names()\n",
    "n_coefs = 30\n",
    "\n",
    "fig, axs = plt.subplots(1, 2, figsize=(15, 8))\n",
    "fig.subplots_adjust(wspace=0.8)\n",
    "\n",
    "for i, l in enumerate(['positif','negatif']):\n",
    "    coef_df = get_tokens_coefs(vocab, model.coef_, n_coefs)\n",
    "    plot_tokens_coefs(coef_df, axs[i], l)"
   ]
  },
  {
   "cell_type": "markdown",
   "metadata": {},
   "source": [
    "## Linear model"
   ]
  },
  {
   "cell_type": "markdown",
   "metadata": {},
   "source": [
    "Train - Test split"
   ]
  },
  {
   "cell_type": "code",
   "execution_count": 55,
   "metadata": {
    "collapsed": true
   },
   "outputs": [],
   "source": [
    "X_train, X_valid, y_train, y_valid = train_test_split(df['tokenized_int'].values, df['sentiment'].values, test_size=0.25, random_state=0)"
   ]
  },
  {
   "cell_type": "markdown",
   "metadata": {},
   "source": [
    "Nous allons créé un réseau de neurones avec une couche embedding de dimension 100 comme input et aucune couche cachée.\n",
    "C'est équivalent à appliquer une régression logistique sur les vecteurs mots au lieu de l'appliquer aux vecteurs 1hot"
   ]
  },
  {
   "cell_type": "code",
   "execution_count": 56,
   "metadata": {
    "collapsed": true
   },
   "outputs": [],
   "source": [
    "def baseline_model():\n",
    "    model = Sequential([Embedding(input_dim=max_words, output_dim=50, input_length=maxlen),\n",
    "                        Flatten(),\n",
    "                        Dense(2, activation='sigmoid')])\n",
    "\n",
    "    model.compile(loss='binary_crossentropy', optimizer=Adam(), metrics=['accuracy'])\n",
    "    \n",
    "    return model"
   ]
  },
  {
   "cell_type": "markdown",
   "metadata": {},
   "source": [
    "Pour ce modèle, les vecteurs mots ont besoin d'être de taille fixé"
   ]
  },
  {
   "cell_type": "markdown",
   "metadata": {},
   "source": [
    "- limitation de la longueur d'un tweet"
   ]
  },
  {
   "cell_type": "code",
   "execution_count": 57,
   "metadata": {
    "collapsed": true
   },
   "outputs": [],
   "source": [
    "lens = df['tokenized_int'].apply(lambda x: len(x))"
   ]
  },
  {
   "cell_type": "code",
   "execution_count": 58,
   "metadata": {},
   "outputs": [
    {
     "data": {
      "text/plain": [
       "(0, 32, 7.253255)"
      ]
     },
     "execution_count": 58,
     "metadata": {},
     "output_type": "execute_result"
    }
   ],
   "source": [
    "min(lens), max(lens), np.mean(lens)"
   ]
  },
  {
   "cell_type": "code",
   "execution_count": 59,
   "metadata": {
    "collapsed": true
   },
   "outputs": [],
   "source": [
    "maxlen = 10"
   ]
  },
  {
   "cell_type": "markdown",
   "metadata": {},
   "source": [
    "On choisit donc une longueur de tweet maximale de 10"
   ]
  },
  {
   "cell_type": "markdown",
   "metadata": {},
   "source": [
    "On remplit les vecteurs/phrases de taille inférieure à 10 avec des -1 (représentant les mot de type 'unk')."
   ]
  },
  {
   "cell_type": "code",
   "execution_count": 60,
   "metadata": {
    "collapsed": true
   },
   "outputs": [],
   "source": [
    "x_train = pad_sequences(X_train, maxlen=maxlen, value=0)\n",
    "x_valid = pad_sequences(X_valid, maxlen=maxlen, value=0)"
   ]
  },
  {
   "cell_type": "code",
   "execution_count": 61,
   "metadata": {},
   "outputs": [
    {
     "data": {
      "text/plain": [
       "array([  43,    5,    7,  106,   76,   14,  452,    0,   11, 4065])"
      ]
     },
     "execution_count": 61,
     "metadata": {},
     "output_type": "execute_result"
    }
   ],
   "source": [
    "x_train[0]"
   ]
  },
  {
   "cell_type": "markdown",
   "metadata": {},
   "source": [
    "On encode les classes en 1hot vector:"
   ]
  },
  {
   "cell_type": "code",
   "execution_count": 62,
   "metadata": {
    "collapsed": true
   },
   "outputs": [],
   "source": [
    "hot_y = np_utils.to_categorical(y_train)\n",
    "hot_y_valid = np_utils.to_categorical(y_valid)"
   ]
  },
  {
   "cell_type": "markdown",
   "metadata": {},
   "source": [
    "model training"
   ]
  },
  {
   "cell_type": "code",
   "execution_count": 63,
   "metadata": {},
   "outputs": [
    {
     "name": "stdout",
     "output_type": "stream",
     "text": [
      "Train on 150000 samples, validate on 50000 samples\n",
      "Epoch 1/5\n",
      "150000/150000 [==============================] - 8s 52us/step - loss: 0.5199 - acc: 0.7456 - val_loss: 0.4862 - val_acc: 0.7685\n",
      "Epoch 2/5\n",
      "150000/150000 [==============================] - 7s 48us/step - loss: 0.4657 - acc: 0.7846 - val_loss: 0.4904 - val_acc: 0.7676\n",
      "Epoch 3/5\n",
      "150000/150000 [==============================] - 7s 48us/step - loss: 0.4403 - acc: 0.7994 - val_loss: 0.5032 - val_acc: 0.7615\n",
      "Epoch 4/5\n",
      "150000/150000 [==============================] - 7s 48us/step - loss: 0.4135 - acc: 0.8151 - val_loss: 0.5245 - val_acc: 0.7552\n",
      "Epoch 5/5\n",
      "150000/150000 [==============================] - 7s 48us/step - loss: 0.3918 - acc: 0.8270 - val_loss: 0.5483 - val_acc: 0.7493\n"
     ]
    },
    {
     "data": {
      "text/plain": [
       "<keras.callbacks.History at 0x2e4ed2ee748>"
      ]
     },
     "execution_count": 63,
     "metadata": {},
     "output_type": "execute_result"
    }
   ],
   "source": [
    "model = baseline_model()\n",
    "model.fit(x_train, hot_y, validation_data=(x_valid, hot_y_valid), epochs=5, batch_size=100)"
   ]
  },
  {
   "cell_type": "code",
   "execution_count": 64,
   "metadata": {
    "collapsed": true
   },
   "outputs": [],
   "source": [
    "acc = model.history.history['acc']\n",
    "val_acc = model.history.history['val_acc']\n",
    "loss=model.history.history['loss']\n",
    "val_loss=model.history.history['val_loss']"
   ]
  },
  {
   "cell_type": "code",
   "execution_count": 65,
   "metadata": {},
   "outputs": [
    {
     "data": {
      "image/png": "[encoded data removed]",
      "text/plain": [
       "<matplotlib.figure.Figure at 0x2e4ed39e0b8>"
      ]
     },
     "metadata": {},
     "output_type": "display_data"
    },
    {
     "data": {
      "image/png": "[encoded data removed]",
      "text/plain": [
       "<matplotlib.figure.Figure at 0x2e4ed33c668>"
      ]
     },
     "metadata": {},
     "output_type": "display_data"
    }
   ],
   "source": [
    "num_epochs=range(1,len(loss)+1)\n",
    "\n",
    "plt.plot(num_epochs, loss, 'bo', label='Training loss')\n",
    "plt.plot(num_epochs, val_loss, 'b', label='Validation loss')\n",
    "plt.title('Training and validation loss')\n",
    "plt.xlabel('Epochs')\n",
    "plt.ylabel('Loss')\n",
    "plt.legend()\n",
    "\n",
    "plt.figure()\n",
    "\n",
    "plt.plot(num_epochs, acc, 'bo', label='Training accuracy')\n",
    "plt.plot(num_epochs, val_acc, 'b', label='Validation accuracy')\n",
    "plt.title('Training and validation accuracy')\n",
    "plt.xlabel('Epochs')\n",
    "plt.ylabel('Accuracy')\n",
    "plt.legend()\n",
    "\n",
    "plt.show()"
   ]
  },
  {
   "cell_type": "markdown",
   "metadata": {},
   "source": [
    "## Convolutional Neural Network"
   ]
  },
  {
   "cell_type": "markdown",
   "metadata": {},
   "source": [
    "Nous allons créé un réseau de neurones convolutionel très simple. Il dispose d'une couche de convolution (10 filtres de taille 3)."
   ]
  },
  {
   "cell_type": "code",
   "execution_count": 66,
   "metadata": {
    "collapsed": true
   },
   "outputs": [],
   "source": [
    "def conv_model():\n",
    "    model = Sequential([Embedding(input_dim=max_words, output_dim=32, input_length=maxlen),\n",
    "                        Convolution1D(10, 3, padding='same', activation='relu'),\n",
    "                        MaxPooling1D(),\n",
    "                        Flatten(),\n",
    "                        Dense(50, activation='relu'),\n",
    "                        Dense(2, activation='sigmoid')])\n",
    "\n",
    "    model.compile(loss='binary_crossentropy', optimizer=Adam(), metrics=['accuracy'])\n",
    "    \n",
    "    return model"
   ]
  },
  {
   "cell_type": "code",
   "execution_count": 67,
   "metadata": {},
   "outputs": [
    {
     "name": "stdout",
     "output_type": "stream",
     "text": [
      "Train on 150000 samples, validate on 50000 samples\n",
      "Epoch 1/5\n",
      "150000/150000 [==============================] - 11s 76us/step - loss: 0.5040 - acc: 0.7522 - val_loss: 0.4789 - val_acc: 0.7725\n",
      "Epoch 2/5\n",
      "150000/150000 [==============================] - 10s 69us/step - loss: 0.4468 - acc: 0.7919 - val_loss: 0.4714 - val_acc: 0.7729\n",
      "Epoch 3/5\n",
      "150000/150000 [==============================] - 10s 69us/step - loss: 0.4137 - acc: 0.8112 - val_loss: 0.4791 - val_acc: 0.7701\n",
      "Epoch 4/5\n",
      "150000/150000 [==============================] - 10s 69us/step - loss: 0.3783 - acc: 0.8324 - val_loss: 0.5049 - val_acc: 0.7663\n",
      "Epoch 5/5\n",
      "150000/150000 [==============================] - 10s 68us/step - loss: 0.3430 - acc: 0.8510 - val_loss: 0.5296 - val_acc: 0.7566\n"
     ]
    },
    {
     "data": {
      "text/plain": [
       "<keras.callbacks.History at 0x2e4e8845b70>"
      ]
     },
     "execution_count": 67,
     "metadata": {},
     "output_type": "execute_result"
    }
   ],
   "source": [
    "convmodel = conv_model()\n",
    "convmodel.fit(x_train, hot_y, validation_data=(x_valid, hot_y_valid), epochs=5, batch_size=100)"
   ]
  },
  {
   "cell_type": "code",
   "execution_count": 68,
   "metadata": {},
   "outputs": [
    {
     "name": "stdout",
     "output_type": "stream",
     "text": [
      "150000/150000 [==============================] - 2s 15us/step\n",
      "50000/50000 [==============================] - 1s 15us/step\n"
     ]
    }
   ],
   "source": [
    "training_loss_value, training_acc_value = convmodel.evaluate(x_train, hot_y, batch_size=100)\n",
    "valid_loss_value, valid_acc_value = convmodel.evaluate(x_valid, hot_y_valid, batch_size=100)"
   ]
  },
  {
   "cell_type": "code",
   "execution_count": 69,
   "metadata": {},
   "outputs": [
    {
     "name": "stdout",
     "output_type": "stream",
     "text": [
      "training loss : 0.2889\n",
      "validation_loss : 0.5296\n",
      " \n",
      "training accuracy : 88.73 %\n",
      "validation accuracy : 75.66 %\n"
     ]
    }
   ],
   "source": [
    "print('training loss : {:.4f}'.format(training_loss_value))\n",
    "print('validation_loss : {:.4f}'.format(valid_loss_value))\n",
    "print(' ')\n",
    "print('training accuracy : {:.2f} %'.format(100*training_acc_value))\n",
    "print('validation accuracy : {:.2f} %'.format(100*valid_acc_value))"
   ]
  },
  {
   "cell_type": "markdown",
   "metadata": {},
   "source": [
    "Nous allons maintenant créé un réseau de neurones convolutionnel un peu plus complexe qui appliquent différents tailles de filtres (taille 2, 3 et 5)."
   ]
  },
  {
   "cell_type": "code",
   "execution_count": 70,
   "metadata": {
    "collapsed": true
   },
   "outputs": [],
   "source": [
    "def mult_conv():\n",
    "    graph_in = Input(shape=(max_words, 50))\n",
    "\n",
    "    convs = []\n",
    "    for filter_size in range(2, 5):\n",
    "        x = Convolution1D(64, filter_size, padding='same', activation='relu')(graph_in)\n",
    "        convs.append(x)\n",
    "\n",
    "    graph_out = concatenate(convs, axis=1)\n",
    "    graph_out = GlobalMaxPooling1D()(graph_out)\n",
    "    graph = Model(graph_in, graph_out)\n",
    "    \n",
    "    model = Sequential([Embedding(max_words, 50, input_length=maxlen),\n",
    "                    graph,\n",
    "                    Dropout(0.5),\n",
    "                    Dense(25, activation='relu'),\n",
    "                    Dense(2, activation='sigmoid')])\n",
    "\n",
    "    model.compile(loss='binary_crossentropy', optimizer=Adam(), metrics=['accuracy'])\n",
    "    \n",
    "    return model"
   ]
  },
  {
   "cell_type": "code",
   "execution_count": 71,
   "metadata": {},
   "outputs": [
    {
     "name": "stdout",
     "output_type": "stream",
     "text": [
      "Train on 150000 samples, validate on 50000 samples\n",
      "Epoch 1/5\n",
      "150000/150000 [==============================] - 36s 238us/step - loss: 0.5183 - acc: 0.7417 - val_loss: 0.4744 - val_acc: 0.7733\n",
      "Epoch 2/5\n",
      "150000/150000 [==============================] - 32s 210us/step - loss: 0.4609 - acc: 0.7847 - val_loss: 0.4674 - val_acc: 0.7772\n",
      "Epoch 3/5\n",
      "150000/150000 [==============================] - 32s 215us/step - loss: 0.4372 - acc: 0.7977 - val_loss: 0.4689 - val_acc: 0.7767\n",
      "Epoch 4/5\n",
      "150000/150000 [==============================] - 31s 209us/step - loss: 0.4153 - acc: 0.8088 - val_loss: 0.4712 - val_acc: 0.7750\n",
      "Epoch 5/5\n",
      "150000/150000 [==============================] - 26s 172us/step - loss: 0.3931 - acc: 0.8212 - val_loss: 0.4841 - val_acc: 0.7734\n"
     ]
    }
   ],
   "source": [
    "multconv = mult_conv() \n",
    "multconv_history = multconv.fit(x_train, hot_y, validation_data=(x_valid, hot_y_valid), epochs=5, batch_size=100)"
   ]
  },
  {
   "cell_type": "code",
   "execution_count": 72,
   "metadata": {
    "collapsed": true
   },
   "outputs": [],
   "source": [
    "acc = multconv_history.history['acc']\n",
    "val_acc = multconv_history.history['val_acc']\n",
    "loss = multconv_history.history['loss']\n",
    "val_loss = multconv_history.history['val_loss']"
   ]
  },
  {
   "cell_type": "code",
   "execution_count": 73,
   "metadata": {},
   "outputs": [
    {
     "data": {
      "image/png": "[encoded data removed]",
      "text/plain": [
       "<matplotlib.figure.Figure at 0x2e4e86f0438>"
      ]
     },
     "metadata": {},
     "output_type": "display_data"
    },
    {
     "data": {
      "image/png": "[encoded data removed]",
      "text/plain": [
       "<matplotlib.figure.Figure at 0x2e4e86d6048>"
      ]
     },
     "metadata": {},
     "output_type": "display_data"
    }
   ],
   "source": [
    "num_epochs=range(1,len(loss)+1)\n",
    "\n",
    "plt.plot(num_epochs, loss, 'bo', label='Training loss')\n",
    "plt.plot(num_epochs, val_loss, 'b', label='Validation loss')\n",
    "plt.title('Training and validation loss')\n",
    "plt.xlabel('Epochs')\n",
    "plt.ylabel('Loss')\n",
    "plt.legend()\n",
    "\n",
    "plt.figure()\n",
    "\n",
    "plt.plot(num_epochs, acc, 'bo', label='Training accuracy')\n",
    "plt.plot(num_epochs, val_acc, 'b', label='Validation accuracy')\n",
    "plt.title('Training and validation accuracy')\n",
    "plt.xlabel('Epochs')\n",
    "plt.ylabel('Accuracy')\n",
    "plt.legend()\n",
    "\n",
    "plt.show()"
   ]
  },
  {
   "cell_type": "code",
   "execution_count": 74,
   "metadata": {},
   "outputs": [
    {
     "name": "stdout",
     "output_type": "stream",
     "text": [
      "150000/150000 [==============================] - 4s 28us/step\n",
      "50000/50000 [==============================] - 2s 31us/step\n"
     ]
    }
   ],
   "source": [
    "training_loss_value, training_acc_value = multconv.evaluate(x_train, hot_y, batch_size=100)\n",
    "valid_loss_value, valid_acc_value = multconv.evaluate(x_valid, hot_y_valid, batch_size=100)"
   ]
  },
  {
   "cell_type": "code",
   "execution_count": 75,
   "metadata": {},
   "outputs": [
    {
     "name": "stdout",
     "output_type": "stream",
     "text": [
      "training loss : 0.3416\n",
      "validation_loss : 0.4841\n",
      " \n",
      "training accuracy : 85.34 %\n",
      "validation accuracy : 77.34 %\n"
     ]
    }
   ],
   "source": [
    "print('training loss : {:.4f}'.format(training_loss_value))\n",
    "print('validation_loss : {:.4f}'.format(valid_loss_value))\n",
    "print(' ')\n",
    "print('training accuracy : {:.2f} %'.format(100*training_acc_value))\n",
    "print('validation accuracy : {:.2f} %'.format(100*valid_acc_value))"
   ]
  },
  {
   "cell_type": "markdown",
   "metadata": {},
   "source": [
    "## SimpleRNN"
   ]
  },
  {
   "cell_type": "code",
   "execution_count": 76,
   "metadata": {
    "collapsed": true
   },
   "outputs": [],
   "source": [
    "def simple_rnn():\n",
    "    model = Sequential()\n",
    "    model.add(Embedding(max_words, 50, input_length=maxlen))\n",
    "    model.add(SimpleRNN(32))\n",
    "    model.add(Dense(2, activation='sigmoid'))\n",
    "\n",
    "    model.compile(loss='binary_crossentropy', optimizer=Adam(), metrics=['accuracy'])\n",
    "    \n",
    "    return model"
   ]
  },
  {
   "cell_type": "code",
   "execution_count": 77,
   "metadata": {},
   "outputs": [
    {
     "name": "stdout",
     "output_type": "stream",
     "text": [
      "Train on 150000 samples, validate on 50000 samples\n",
      "Epoch 1/1\n",
      "150000/150000 [==============================] - 11s 75us/step - loss: 0.5101 - acc: 0.7498 - val_loss: 0.4884 - val_acc: 0.7664\n"
     ]
    }
   ],
   "source": [
    "simplernn = simple_rnn() \n",
    "simplernn_history = simplernn.fit(x_train, hot_y, validation_data=(x_valid, hot_y_valid), epochs=1, batch_size=100)"
   ]
  },
  {
   "cell_type": "markdown",
   "metadata": {},
   "source": [
    "## LSTM"
   ]
  },
  {
   "cell_type": "markdown",
   "metadata": {},
   "source": [
    "- couteux en temps computationnel mais très bon en représentation"
   ]
  },
  {
   "cell_type": "code",
   "execution_count": 78,
   "metadata": {
    "collapsed": true
   },
   "outputs": [],
   "source": [
    "def simple_lstm():\n",
    "    model = Sequential()\n",
    "    model.add(Embedding(max_words, 50, input_length=maxlen))\n",
    "    model.add(LSTM(32))\n",
    "    model.add(Dense(2, activation='sigmoid'))\n",
    "\n",
    "    model.compile(loss='binary_crossentropy', optimizer=Adam(), metrics=['accuracy'])\n",
    "    \n",
    "    return model"
   ]
  },
  {
   "cell_type": "code",
   "execution_count": 79,
   "metadata": {},
   "outputs": [
    {
     "name": "stdout",
     "output_type": "stream",
     "text": [
      "Train on 150000 samples, validate on 50000 samples\n",
      "Epoch 1/1\n",
      "150000/150000 [==============================] - 16s 110us/step - loss: 0.5037 - acc: 0.7534 - val_loss: 0.4767 - val_acc: 0.7718\n"
     ]
    }
   ],
   "source": [
    "simplelstm = simple_lstm() \n",
    "simplelstm_history = simplelstm.fit(x_train, hot_y, validation_data=(x_valid, hot_y_valid), epochs=1, batch_size=100)"
   ]
  },
  {
   "cell_type": "markdown",
   "metadata": {},
   "source": [
    "## GRU"
   ]
  },
  {
   "cell_type": "markdown",
   "metadata": {},
   "source": [
    "- similaire au lstm\n",
    "- compromis en temps computationnel et représentation"
   ]
  },
  {
   "cell_type": "code",
   "execution_count": 80,
   "metadata": {
    "collapsed": true
   },
   "outputs": [],
   "source": [
    "def simple_gru():\n",
    "    model = Sequential()\n",
    "    model.add(Embedding(max_words, 50, input_length=maxlen))\n",
    "    model.add(GRU(32))\n",
    "    model.add(Dense(2, activation='sigmoid'))\n",
    "\n",
    "    model.compile(loss='binary_crossentropy', optimizer=Adam(), metrics=['accuracy'])\n",
    "    \n",
    "    return model"
   ]
  },
  {
   "cell_type": "code",
   "execution_count": 81,
   "metadata": {},
   "outputs": [
    {
     "name": "stdout",
     "output_type": "stream",
     "text": [
      "Train on 150000 samples, validate on 50000 samples\n",
      "Epoch 1/1\n",
      "150000/150000 [==============================] - 16s 109us/step - loss: 0.5037 - acc: 0.7542 - val_loss: 0.4753 - val_acc: 0.7740\n"
     ]
    }
   ],
   "source": [
    "simplegru = simple_gru() \n",
    "simplegru_history = simplegru.fit(x_train, hot_y, validation_data=(x_valid, hot_y_valid), epochs=1, batch_size=100)"
   ]
  },
  {
   "cell_type": "markdown",
   "metadata": {},
   "source": [
    "## BI LSTM"
   ]
  },
  {
   "cell_type": "markdown",
   "metadata": {},
   "source": [
    "Pas très utile mais à tester quand même"
   ]
  },
  {
   "cell_type": "markdown",
   "metadata": {},
   "source": [
    "# Modèle final choisi"
   ]
  },
  {
   "cell_type": "markdown",
   "metadata": {},
   "source": [
    "Nous allons donc choisir le modèle le plus performant en temps computationnel et pouvoir de représentation."
   ]
  },
  {
   "cell_type": "markdown",
   "metadata": {},
   "source": [
    "Au vu de nos données, tweets de taille assez courts (moyenne de mots dans un tweet = 8), nous choisissons donc un réseau de neurones convolutionnel"
   ]
  },
  {
   "cell_type": "markdown",
   "metadata": {},
   "source": [
    "### Pre-trained word embeddings"
   ]
  },
  {
   "cell_type": "markdown",
   "metadata": {},
   "source": [
    "Nous allons utiliser un modèle pré-entrainé à l'aide de GloVe pour améliorer notre modèle."
   ]
  },
  {
   "cell_type": "markdown",
   "metadata": {},
   "source": [
    "Nous allons utilisé des words vectors pré-entrainé.\n",
    "\n",
    "Nous téléchargeons le fichier suivant:\n",
    "- Twitter (2B tweets, 27B tokens, 1.2M vocab, uncased, 25d, 50d, 100d, & 200d vectors, 1.42 GB download): glove.twitter.27B.zip\n",
    "\n",
    "url : https://nlp.stanford.edu/projects/glove/"
   ]
  },
  {
   "cell_type": "code",
   "execution_count": 82,
   "metadata": {
    "collapsed": true
   },
   "outputs": [],
   "source": [
    "glove_dir = r'C:\\Users\\MyPC\\Documents\\AIC-partage\\Structured\\data'"
   ]
  },
  {
   "cell_type": "code",
   "execution_count": 83,
   "metadata": {
    "collapsed": true
   },
   "outputs": [],
   "source": [
    "embeddings_index = {}\n",
    "f = open(glove_dir + '\\glove.twitter.27B.50d.txt', encoding=\"utf8\")\n",
    "for line in f:\n",
    "    values = line.split()\n",
    "    word = values[0]\n",
    "    coefs = np.asarray(values[1:], dtype='float32')\n",
    "    embeddings_index[word] = coefs\n",
    "f.close()"
   ]
  },
  {
   "cell_type": "code",
   "execution_count": 84,
   "metadata": {},
   "outputs": [
    {
     "data": {
      "text/plain": [
       "1193514"
      ]
     },
     "execution_count": 84,
     "metadata": {},
     "output_type": "execute_result"
    }
   ],
   "source": [
    "len(embeddings_index)"
   ]
  },
  {
   "cell_type": "code",
   "execution_count": 85,
   "metadata": {
    "collapsed": true
   },
   "outputs": [],
   "source": [
    "def create_embedding_matrix(max_words, embedding_dim):\n",
    "    embedding_matrix = np.zeros((max_words, embedding_dim))\n",
    "    found = 0\n",
    "    for word, i in w2id.items():\n",
    "        embedding_vector = embeddings_index.get(word)\n",
    "        if i < max_words:\n",
    "            if embedding_vector is not None:\n",
    "                embedding_matrix[i] = embedding_vector\n",
    "                found += 1\n",
    "            else:\n",
    "                embedding_matrix[i] = np.random.normal(scale=0.6, size=(embedding_dim,))\n",
    "    return embedding_matrix, found"
   ]
  },
  {
   "cell_type": "code",
   "execution_count": 86,
   "metadata": {
    "collapsed": true
   },
   "outputs": [],
   "source": [
    "embedding_matrix, found = create_embedding_matrix(max_words, 50)"
   ]
  },
  {
   "cell_type": "code",
   "execution_count": 87,
   "metadata": {},
   "outputs": [
    {
     "data": {
      "text/plain": [
       "4948"
      ]
     },
     "execution_count": 87,
     "metadata": {},
     "output_type": "execute_result"
    }
   ],
   "source": [
    "found"
   ]
  },
  {
   "cell_type": "markdown",
   "metadata": {},
   "source": [
    "## CNN"
   ]
  },
  {
   "cell_type": "code",
   "execution_count": 88,
   "metadata": {
    "collapsed": true
   },
   "outputs": [],
   "source": [
    "def cnn_model():\n",
    "    model = Sequential()\n",
    "    # trainable = False poids de glove non mis à jour, meilleurs résultats avec trainable = True  \n",
    "    model.add(Embedding(input_dim=max_words, output_dim=50 , weights=[embedding_matrix],  input_length=maxlen, trainable=True))\n",
    "    model.add(Convolution1D(10, 3, padding='same', activation='relu'))\n",
    "    model.add(MaxPooling1D())\n",
    "    model.add(Flatten())\n",
    "    model.add(Dropout(0.5))\n",
    "    model.add(Dense(50, activation='relu'))\n",
    "    model.add(Dropout(0.5))\n",
    "    model.add(Dense(2, activation='sigmoid'))\n",
    "    \n",
    "    #model.layers[0].set_weights = [embedding_matrix]\n",
    "    #model.layers[0].trainable = True\n",
    "\n",
    "    model.compile(loss='binary_crossentropy', optimizer=Adam(), metrics=['accuracy'])\n",
    "    \n",
    "    return model"
   ]
  },
  {
   "cell_type": "code",
   "execution_count": 89,
   "metadata": {},
   "outputs": [
    {
     "name": "stdout",
     "output_type": "stream",
     "text": [
      "Train on 150000 samples, validate on 50000 samples\n",
      "Epoch 1/5\n",
      "150000/150000 [==============================] - 15s 100us/step - loss: 0.5773 - acc: 0.6966 - val_loss: 0.5008 - val_acc: 0.7668\n",
      "Epoch 2/5\n",
      "150000/150000 [==============================] - 11s 76us/step - loss: 0.5034 - acc: 0.7612 - val_loss: 0.4879 - val_acc: 0.7743\n",
      "Epoch 3/5\n",
      "150000/150000 [==============================] - 11s 70us/step - loss: 0.4884 - acc: 0.7716 - val_loss: 0.4817 - val_acc: 0.7741\n",
      "Epoch 4/5\n",
      "150000/150000 [==============================] - 12s 79us/step - loss: 0.4794 - acc: 0.7778 - val_loss: 0.4925 - val_acc: 0.7676\n",
      "Epoch 5/5\n",
      "150000/150000 [==============================] - 12s 82us/step - loss: 0.4743 - acc: 0.7794 - val_loss: 0.4792 - val_acc: 0.7744\n"
     ]
    }
   ],
   "source": [
    "cnn = cnn_model() \n",
    "cnn_history = cnn.fit(x_train, hot_y, validation_data=(x_valid, hot_y_valid), epochs=5, batch_size=100)"
   ]
  },
  {
   "cell_type": "code",
   "execution_count": 90,
   "metadata": {
    "collapsed": true
   },
   "outputs": [],
   "source": [
    "acc = cnn_history.history['acc']\n",
    "val_acc = cnn_history.history['val_acc']\n",
    "loss = cnn_history.history['loss']\n",
    "val_loss = cnn_history.history['val_loss']"
   ]
  },
  {
   "cell_type": "code",
   "execution_count": 91,
   "metadata": {},
   "outputs": [
    {
     "data": {
      "image/png": "[encoded data removed]",
      "text/plain": [
       "<matplotlib.figure.Figure at 0x2e4e44b4e80>"
      ]
     },
     "metadata": {},
     "output_type": "display_data"
    },
    {
     "data": {
      "image/png": "[encoded data removed]",
      "text/plain": [
       "<matplotlib.figure.Figure at 0x2e4e8409780>"
      ]
     },
     "metadata": {},
     "output_type": "display_data"
    }
   ],
   "source": [
    "num_epochs=range(1,len(loss)+1)\n",
    "\n",
    "plt.plot(num_epochs, loss, 'bo', label='Training loss')\n",
    "plt.plot(num_epochs, val_loss, 'b', label='Validation loss')\n",
    "plt.title('Training and validation loss')\n",
    "plt.xlabel('Epochs')\n",
    "plt.ylabel('Loss')\n",
    "plt.legend()\n",
    "\n",
    "plt.figure()\n",
    "\n",
    "plt.plot(num_epochs, acc, 'bo', label='Training accuracy')\n",
    "plt.plot(num_epochs, val_acc, 'b', label='Validation accuracy')\n",
    "plt.title('Training and validation accuracy')\n",
    "plt.xlabel('Epochs')\n",
    "plt.ylabel('Accuracy')\n",
    "plt.legend()\n",
    "\n",
    "plt.show()"
   ]
  },
  {
   "cell_type": "code",
   "execution_count": 92,
   "metadata": {},
   "outputs": [
    {
     "name": "stdout",
     "output_type": "stream",
     "text": [
      "150000/150000 [==============================] - 2s 16us/step\n",
      "50000/50000 [==============================] - 1s 17us/step\n"
     ]
    }
   ],
   "source": [
    "training_loss_value, training_acc_value = cnn.evaluate(x_train, hot_y, batch_size=100)\n",
    "valid_loss_value, valid_acc_value = cnn.evaluate(x_valid, hot_y_valid, batch_size=100)"
   ]
  },
  {
   "cell_type": "code",
   "execution_count": 93,
   "metadata": {},
   "outputs": [
    {
     "name": "stdout",
     "output_type": "stream",
     "text": [
      "training loss : 0.4504\n",
      "validation_loss : 0.4792\n",
      " \n",
      "training accuracy : 79.90 %\n",
      "validation accuracy : 77.44 %\n"
     ]
    }
   ],
   "source": [
    "print('training loss : {:.4f}'.format(training_loss_value))\n",
    "print('validation_loss : {:.4f}'.format(valid_loss_value))\n",
    "print(' ')\n",
    "print('training accuracy : {:.2f} %'.format(100*training_acc_value))\n",
    "print('validation accuracy : {:.2f} %'.format(100*valid_acc_value))"
   ]
  },
  {
   "cell_type": "code",
   "execution_count": 169,
   "metadata": {
    "collapsed": true
   },
   "outputs": [],
   "source": [
    "def mult_conv_glove():\n",
    "    graph_in = Input(shape=(max_words, 50))\n",
    "\n",
    "    convs = []\n",
    "    for filter_size in range(2, 5):\n",
    "        x = Convolution1D(64, filter_size, padding='same', activation='relu')(graph_in)\n",
    "        convs.append(x)\n",
    "\n",
    "    graph_out = concatenate(convs, axis=1)\n",
    "    graph_out = GlobalMaxPooling1D()(graph_out)\n",
    "    graph = Model(graph_in, graph_out)\n",
    "    \n",
    "    model = Sequential([Embedding(max_words, 50,weights=[embedding_matrix],  input_length=maxlen, trainable=True ),\n",
    "                    graph,\n",
    "                    Dropout(0.5),\n",
    "                    Dense(25, activation='relu'),\n",
    "                    Dense(2, activation='sigmoid')])\n",
    "    \n",
    "    \n",
    "   \n",
    "    \n",
    "    model.compile(loss='binary_crossentropy', optimizer=Adam(), metrics=['accuracy'])\n",
    "    \n",
    "    return model"
   ]
  },
  {
   "cell_type": "markdown",
   "metadata": {},
   "source": [
    "## cnn_glove est le modèle qu'on va utliser pour le transfer learning et pour l'analyse de tweet en temps réel\n",
    "\n",
    "Rq : Dans la suite on va utliser le modèle cnn_glove avec des embeddings de glove qu'on a modifié lors de l'entrainement (trainable = true ) pour l'exemple, pour autant il peut être judicieux de les fixer quand on entraine cnn_glove pour avoir une meilleur généalisation lors du tranfert"
   ]
  },
  {
   "cell_type": "code",
   "execution_count": 170,
   "metadata": {},
   "outputs": [
    {
     "name": "stdout",
     "output_type": "stream",
     "text": [
      "Train on 150000 samples, validate on 50000 samples\n",
      "Epoch 1/5\n",
      "150000/150000 [==============================] - 29s 192us/step - loss: 0.5427 - acc: 0.7238 - val_loss: 0.4767 - val_acc: 0.7721\n",
      "Epoch 2/5\n",
      "150000/150000 [==============================] - 28s 186us/step - loss: 0.4746 - acc: 0.7764 - val_loss: 0.4649 - val_acc: 0.7780\n",
      "Epoch 3/5\n",
      "150000/150000 [==============================] - 28s 187us/step - loss: 0.4566 - acc: 0.7866 - val_loss: 0.4613 - val_acc: 0.7795\n",
      "Epoch 4/5\n",
      "150000/150000 [==============================] - 28s 186us/step - loss: 0.4450 - acc: 0.7924 - val_loss: 0.4607 - val_acc: 0.7817\n",
      "Epoch 5/5\n",
      "150000/150000 [==============================] - 28s 188us/step - loss: 0.4363 - acc: 0.7971 - val_loss: 0.4617 - val_acc: 0.7813\n"
     ]
    }
   ],
   "source": [
    "# moins tendance à overfit quand trainable = False \n",
    "\n",
    "cnn_glove = mult_conv_glove() \n",
    "cnn_history = cnn_glove.fit(x_train, hot_y, validation_data=(x_valid, hot_y_valid), epochs=5, batch_size=100)"
   ]
  },
  {
   "cell_type": "markdown",
   "metadata": {
    "collapsed": true
   },
   "source": [
    "# Transfer learning \n",
    "Quand on a peu de données avec tweet airline le transfer est bénéfique pour l'apprentissage.\n",
    "Le transfer prévient du sur apprentissage du modèle.\n",
    "\n",
    "Pour procéder au transfer : \n",
    "- On entraîne un modèle au préalable : ici cnn_glove un réseau multicouche de convolution avec des Embeddings pré-entrainé (cf ci dessus),  déterminer si on fixe ou non les poids des embeddings lors l'entrainement de cnn_glove (a priori mieux de les laisser fixé pour une meilleur généralisation )\n",
    "\n",
    "- On fixe les poids des premières couches de cnn_glove (features obtenues à l'aide de la base de tweet initiale )\n",
    "\n",
    "- On enlève (dans notre cas ) les 2 dernières couches dense et on les remplace (au choix ) par 2 couches de dropout et de dense pour les adapter au nouveau problème de classification du transfert (ici aussi 2 classes )  \n",
    "\n",
    "Rq : on applique bien évidement le même préprocessing sur les nouvelles données "
   ]
  },
  {
   "cell_type": "code",
   "execution_count": 97,
   "metadata": {},
   "outputs": [
    {
     "name": "stdout",
     "output_type": "stream",
     "text": [
      "<keras.layers.embeddings.Embedding object at 0x000002E4E4494160> False\n",
      "<keras.engine.training.Model object at 0x000002E4E449B898> False\n",
      "<keras.layers.core.Dropout object at 0x000002E4E4492EB8> False\n",
      "<keras.layers.core.Dense object at 0x000002E4E4490400> True\n",
      "<keras.layers.core.Dense object at 0x000002E4E448FF98> True\n"
     ]
    }
   ],
   "source": [
    "# Freeze the layers except the last 2 layers\n",
    "# on va enlever les 2 dernirère couches dense pour appliquer le transfer ensuite\n",
    "for layer in cnn_glove.layers[:-2]:\n",
    "    layer.trainable = False\n",
    " \n",
    " \n",
    "# Check the trainable status of the individual layers\n",
    "for layer in cnn_glove.layers:\n",
    "    print(layer, layer.trainable)"
   ]
  },
  {
   "cell_type": "code",
   "execution_count": 145,
   "metadata": {},
   "outputs": [
    {
     "data": {
      "text/html": [
       "<div>\n",
       "<style scoped>\n",
       "    .dataframe tbody tr th:only-of-type {\n",
       "        vertical-align: middle;\n",
       "    }\n",
       "\n",
       "    .dataframe tbody tr th {\n",
       "        vertical-align: top;\n",
       "    }\n",
       "\n",
       "    .dataframe thead th {\n",
       "        text-align: right;\n",
       "    }\n",
       "</style>\n",
       "<table border=\"1\" class=\"dataframe\">\n",
       "  <thead>\n",
       "    <tr style=\"text-align: right;\">\n",
       "      <th></th>\n",
       "      <th>text</th>\n",
       "      <th>airline_sentiment</th>\n",
       "    </tr>\n",
       "  </thead>\n",
       "  <tbody>\n",
       "    <tr>\n",
       "      <th>6359</th>\n",
       "      <td>@SouthwestAir  flight at 630 from fll kiosk just opened. Rude attendants because now everyone is Late Flight. http://t.co/2Boh2Mh3cb</td>\n",
       "      <td>negative</td>\n",
       "    </tr>\n",
       "    <tr>\n",
       "      <th>7045</th>\n",
       "      <td>I hate you all. RT @JetBlue: Our fleet's on fleek. http://t.co/uTdfqF5WPA</td>\n",
       "      <td>negative</td>\n",
       "    </tr>\n",
       "    <tr>\n",
       "      <th>6738</th>\n",
       "      <td>@SouthwestAir flight was Cancelled Flightled and it won't let me rebook online. Wait time on phone is too long. Please help</td>\n",
       "      <td>negative</td>\n",
       "    </tr>\n",
       "    <tr>\n",
       "      <th>12189</th>\n",
       "      <td>@AmericanAir \\nNot giving you a hard time...Just looking for basic customer service after AA lost my bag. ETA on it's return, please????????</td>\n",
       "      <td>negative</td>\n",
       "    </tr>\n",
       "    <tr>\n",
       "      <th>793</th>\n",
       "      <td>@united for an early flt, I think a call is appropriate. Yes, reviewed and nada avail until next day. Expect full refund</td>\n",
       "      <td>negative</td>\n",
       "    </tr>\n",
       "  </tbody>\n",
       "</table>\n",
       "</div>"
      ],
      "text/plain": [
       "                                                                                                                                               text  \\\n",
       "6359   @SouthwestAir  flight at 630 from fll kiosk just opened. Rude attendants because now everyone is Late Flight. http://t.co/2Boh2Mh3cb           \n",
       "7045   I hate you all. RT @JetBlue: Our fleet's on fleek. http://t.co/uTdfqF5WPA                                                                      \n",
       "6738   @SouthwestAir flight was Cancelled Flightled and it won't let me rebook online. Wait time on phone is too long. Please help                    \n",
       "12189  @AmericanAir \\nNot giving you a hard time...Just looking for basic customer service after AA lost my bag. ETA on it's return, please????????   \n",
       "793    @united for an early flt, I think a call is appropriate. Yes, reviewed and nada avail until next day. Expect full refund                       \n",
       "\n",
       "      airline_sentiment  \n",
       "6359   negative          \n",
       "7045   negative          \n",
       "6738   negative          \n",
       "12189  negative          \n",
       "793    negative          "
      ]
     },
     "execution_count": 145,
     "metadata": {},
     "output_type": "execute_result"
    }
   ],
   "source": [
    "Tweet_airline= pd.read_csv(r\"C:\\Users\\MyPC\\Documents\\AIC-partage\\Structured\\data\\Tweets.csv\")\n",
    "Tweet_airline= Tweet_airline[Tweet_airline.airline_sentiment !=\"neutral\"]\n",
    "Tweet_airline = Tweet_airline[[\"text\", \"airline_sentiment\"]]\n",
    "\n",
    "# on ne garde qu'une petite partie : pour voir l'interet du transfer learning  \n",
    "Tweet_airline = Tweet_airline.sample(frac=1)\n",
    "Tweet_airline = Tweet_airline[:100]\n",
    "\n",
    "Tweet_airline.head()"
   ]
  },
  {
   "cell_type": "code",
   "execution_count": 146,
   "metadata": {},
   "outputs": [
    {
     "data": {
      "text/html": [
       "<div>\n",
       "<style scoped>\n",
       "    .dataframe tbody tr th:only-of-type {\n",
       "        vertical-align: middle;\n",
       "    }\n",
       "\n",
       "    .dataframe tbody tr th {\n",
       "        vertical-align: top;\n",
       "    }\n",
       "\n",
       "    .dataframe thead th {\n",
       "        text-align: right;\n",
       "    }\n",
       "</style>\n",
       "<table border=\"1\" class=\"dataframe\">\n",
       "  <thead>\n",
       "    <tr style=\"text-align: right;\">\n",
       "      <th></th>\n",
       "      <th>text</th>\n",
       "      <th>airline_sentiment</th>\n",
       "      <th>clean_text</th>\n",
       "      <th>tokenized</th>\n",
       "      <th>tokenized_int</th>\n",
       "      <th>sentiment</th>\n",
       "    </tr>\n",
       "  </thead>\n",
       "  <tbody>\n",
       "    <tr>\n",
       "      <th>6359</th>\n",
       "      <td>@SouthwestAir  flight at 630 from fll kiosk just opened. Rude attendants because now everyone is Late Flight. http://t.co/2Boh2Mh3cb</td>\n",
       "      <td>negative</td>\n",
       "      <td>flight at from fll kiosk just opened rude attendants because now everyone is late flight</td>\n",
       "      <td>[flight, fll, kiosk, opened, rude, attendants, everyone, late, flight]</td>\n",
       "      <td>[668, 0, 0, 2378, 2177, 0, 104, 208, 668]</td>\n",
       "      <td>0</td>\n",
       "    </tr>\n",
       "    <tr>\n",
       "      <th>7045</th>\n",
       "      <td>I hate you all. RT @JetBlue: Our fleet's on fleek. http://t.co/uTdfqF5WPA</td>\n",
       "      <td>negative</td>\n",
       "      <td>i hate you all rt our fleets on fleek</td>\n",
       "      <td>[hate, fleets, fleek]</td>\n",
       "      <td>[73, 0, 0]</td>\n",
       "      <td>0</td>\n",
       "    </tr>\n",
       "    <tr>\n",
       "      <th>6738</th>\n",
       "      <td>@SouthwestAir flight was Cancelled Flightled and it won't let me rebook online. Wait time on phone is too long. Please help</td>\n",
       "      <td>negative</td>\n",
       "      <td>flight was cancelled flightled and it wont let me rebook online wait time on phone is too long please help</td>\n",
       "      <td>[flight, cancelled, flightled, wont, let, rebook, online, wait, time, phone, long, please, help]</td>\n",
       "      <td>[668, 1184, 0, 101, 137, 0, 422, 68, 16, 122, 86, 90, 143]</td>\n",
       "      <td>0</td>\n",
       "    </tr>\n",
       "    <tr>\n",
       "      <th>12189</th>\n",
       "      <td>@AmericanAir \\nNot giving you a hard time...Just looking for basic customer service after AA lost my bag. ETA on it's return, please????????</td>\n",
       "      <td>negative</td>\n",
       "      <td>not giving you a hard timejust looking for basic customer service after aa lost my bag eta on its return please</td>\n",
       "      <td>[not, giving, hard, timejust, looking, basic, customer, service, aa, lost, bag, eta, return, please]</td>\n",
       "      <td>[1, 878, 196, 0, 114, 4782, 2529, 819, 0, 140, 1067, 0, 1180, 90]</td>\n",
       "      <td>0</td>\n",
       "    </tr>\n",
       "    <tr>\n",
       "      <th>793</th>\n",
       "      <td>@united for an early flt, I think a call is appropriate. Yes, reviewed and nada avail until next day. Expect full refund</td>\n",
       "      <td>negative</td>\n",
       "      <td>for an early flt i think a call is appropriate yes reviewed and nada avail until next day expect full refund</td>\n",
       "      <td>[early, flt, think, call, appropriate, yes, reviewed, nada, avail, next, day, expect, full, refund]</td>\n",
       "      <td>[158, 0, 28, 236, 4503, 82, 0, 0, 0, 79, 3, 1937, 384, 0]</td>\n",
       "      <td>0</td>\n",
       "    </tr>\n",
       "  </tbody>\n",
       "</table>\n",
       "</div>"
      ],
      "text/plain": [
       "                                                                                                                                               text  \\\n",
       "6359   @SouthwestAir  flight at 630 from fll kiosk just opened. Rude attendants because now everyone is Late Flight. http://t.co/2Boh2Mh3cb           \n",
       "7045   I hate you all. RT @JetBlue: Our fleet's on fleek. http://t.co/uTdfqF5WPA                                                                      \n",
       "6738   @SouthwestAir flight was Cancelled Flightled and it won't let me rebook online. Wait time on phone is too long. Please help                    \n",
       "12189  @AmericanAir \\nNot giving you a hard time...Just looking for basic customer service after AA lost my bag. ETA on it's return, please????????   \n",
       "793    @united for an early flt, I think a call is appropriate. Yes, reviewed and nada avail until next day. Expect full refund                       \n",
       "\n",
       "      airline_sentiment  \\\n",
       "6359   negative           \n",
       "7045   negative           \n",
       "6738   negative           \n",
       "12189  negative           \n",
       "793    negative           \n",
       "\n",
       "                                                                                                            clean_text  \\\n",
       "6359   flight at from fll kiosk just opened rude attendants because now everyone is late flight                          \n",
       "7045   i hate you all rt our fleets on fleek                                                                             \n",
       "6738   flight was cancelled flightled and it wont let me rebook online wait time on phone is too long please help        \n",
       "12189  not giving you a hard timejust looking for basic customer service after aa lost my bag eta on its return please   \n",
       "793    for an early flt i think a call is appropriate yes reviewed and nada avail until next day expect full refund      \n",
       "\n",
       "                                                                                                  tokenized  \\\n",
       "6359   [flight, fll, kiosk, opened, rude, attendants, everyone, late, flight]                                 \n",
       "7045   [hate, fleets, fleek]                                                                                  \n",
       "6738   [flight, cancelled, flightled, wont, let, rebook, online, wait, time, phone, long, please, help]       \n",
       "12189  [not, giving, hard, timejust, looking, basic, customer, service, aa, lost, bag, eta, return, please]   \n",
       "793    [early, flt, think, call, appropriate, yes, reviewed, nada, avail, next, day, expect, full, refund]    \n",
       "\n",
       "                                                           tokenized_int  \\\n",
       "6359   [668, 0, 0, 2378, 2177, 0, 104, 208, 668]                           \n",
       "7045   [73, 0, 0]                                                          \n",
       "6738   [668, 1184, 0, 101, 137, 0, 422, 68, 16, 122, 86, 90, 143]          \n",
       "12189  [1, 878, 196, 0, 114, 4782, 2529, 819, 0, 140, 1067, 0, 1180, 90]   \n",
       "793    [158, 0, 28, 236, 4503, 82, 0, 0, 0, 79, 3, 1937, 384, 0]           \n",
       "\n",
       "       sentiment  \n",
       "6359   0          \n",
       "7045   0          \n",
       "6738   0          \n",
       "12189  0          \n",
       "793    0          "
      ]
     },
     "execution_count": 146,
     "metadata": {},
     "output_type": "execute_result"
    }
   ],
   "source": [
    "df2 = Tweet_airline\n",
    "df2['clean_text'] = tc.transform(df2['text'])\n",
    "df2['tokenized'] = df2['clean_text'].apply(lambda row: tokenize(row))\n",
    "df2['tokenized'] = df2['tokenized'].apply(lambda row: remove_stopwords(row))\n",
    "df2['tokenized_int'] = df2['tokenized'].apply(lambda x: transform_to_ids(x))\n",
    "sentiment_dict = {'positive': 1, 'negative':0 } \n",
    "df2['sentiment'] = [sentiment_dict[item] for item in Tweet_airline.airline_sentiment] \n",
    "df2.head()"
   ]
  },
  {
   "cell_type": "code",
   "execution_count": 147,
   "metadata": {},
   "outputs": [
    {
     "data": {
      "image/png": "[encoded data removed]",
      "text/plain": [
       "<matplotlib.figure.Figure at 0x2e4e3fdd208>"
      ]
     },
     "metadata": {},
     "output_type": "display_data"
    }
   ],
   "source": [
    "df2.groupby(['sentiment']).count().plot(kind='bar', figsize=(4, 2), rot=0, legend=False, title='Number of tweets by class')\n",
    "plt.show()"
   ]
  },
  {
   "cell_type": "code",
   "execution_count": 148,
   "metadata": {
    "collapsed": true
   },
   "outputs": [],
   "source": [
    "X_train_2, X_valid_2, y_train_2, y_valid_2 = train_test_split(df2['tokenized_int'].values, df2['sentiment'].values, test_size=0.25, random_state=0)\n",
    "x_train_2 = pad_sequences(X_train_2, maxlen=maxlen, value=0)\n",
    "x_valid_2 = pad_sequences(X_valid_2, maxlen=maxlen, value=0)\n",
    "hot_y_2 = np_utils.to_categorical(y_train_2)\n",
    "hot_y_valid_2 = np_utils.to_categorical(y_valid_2)"
   ]
  },
  {
   "cell_type": "code",
   "execution_count": 163,
   "metadata": {},
   "outputs": [
    {
     "data": {
      "text/plain": [
       "(150000, 10)"
      ]
     },
     "execution_count": 163,
     "metadata": {},
     "output_type": "execute_result"
    }
   ],
   "source": [
    "x_train.shape"
   ]
  },
  {
   "cell_type": "code",
   "execution_count": 172,
   "metadata": {
    "collapsed": true
   },
   "outputs": [],
   "source": [
    "#cnn_glove.predict(x_train[:10])"
   ]
  },
  {
   "cell_type": "code",
   "execution_count": 149,
   "metadata": {},
   "outputs": [
    {
     "name": "stdout",
     "output_type": "stream",
     "text": [
      "_________________________________________________________________\n",
      "Layer (type)                 Output Shape              Param #   \n",
      "=================================================================\n",
      "embedding_8 (Embedding)      (None, 10, 50)            250000    \n",
      "_________________________________________________________________\n",
      "model_2 (Model)              (None, 64)                28992     \n",
      "_________________________________________________________________\n",
      "dropout_4 (Dropout)          (None, 64)                0         \n",
      "_________________________________________________________________\n",
      "dense_11 (Dense)             (None, 25)                1625      \n",
      "_________________________________________________________________\n",
      "dense_12 (Dense)             (None, 2)                 52        \n",
      "=================================================================\n",
      "Total params: 559,661\n",
      "Trainable params: 280,669\n",
      "Non-trainable params: 278,992\n",
      "_________________________________________________________________\n"
     ]
    },
    {
     "name": "stderr",
     "output_type": "stream",
     "text": [
      "D:\\Programmes\\Anaconda2\\lib\\site-packages\\keras\\engine\\training.py:478: UserWarning: Discrepancy between trainable weights and collected trainable weights, did you set `model.trainable` without calling `model.compile` after ?\n",
      "  'Discrepancy between trainable weights and collected trainable'\n"
     ]
    }
   ],
   "source": [
    "cnn_glove.summary()"
   ]
  },
  {
   "cell_type": "code",
   "execution_count": 150,
   "metadata": {},
   "outputs": [
    {
     "data": {
      "text/plain": [
       "<tf.Tensor 'dropout_4/cond/Merge:0' shape=(?, 64) dtype=float32>"
      ]
     },
     "execution_count": 150,
     "metadata": {},
     "output_type": "execute_result"
    }
   ],
   "source": [
    "cnn_glove.get_layer(\"dropout_4\").get_output_at(0)"
   ]
  },
  {
   "cell_type": "code",
   "execution_count": 151,
   "metadata": {
    "collapsed": true
   },
   "outputs": [],
   "source": [
    "from keras import models\n",
    "from keras import layers\n",
    "from keras import optimizers\n",
    "\n",
    "def transfer_model(pretrained_model ): \n",
    "    # Create the model\n",
    "    model = models.Sequential()\n",
    "\n",
    "    # Add the first layers of the trained model :keep the output of the k_ième layer \n",
    "    # Ici on enlève les 2 dernières couches dense_11 et dense_12\n",
    "    model.add(Model(inputs=pretrained_model.get_input_at(0) ,outputs=pretrained_model.get_layer(\"dropout_4\").get_output_at(0)))\n",
    "    #model.add(pretrained_model)  à la place de la ligne du dessus si pas besoin d'enlever les dernières couches \n",
    "\n",
    "    # Add new layers\n",
    "    model.add(Dropout(0.5))\n",
    "    model.add(Dense(50, activation='relu'))\n",
    "    model.add(Dropout(0.5))\n",
    "    model.add(Dense(2, activation='sigmoid'))\n",
    "\n",
    "\n",
    "    model.compile(loss='binary_crossentropy', optimizer=Adam(), metrics=['accuracy'])\n",
    "\n",
    "    # Show a summary of the model. Check the number of trainable parameters\n",
    "    print(model.summary())\n",
    "    \n",
    "    return model\n",
    "    \n",
    "    "
   ]
  },
  {
   "cell_type": "code",
   "execution_count": 152,
   "metadata": {},
   "outputs": [
    {
     "name": "stdout",
     "output_type": "stream",
     "text": [
      "_________________________________________________________________\n",
      "Layer (type)                 Output Shape              Param #   \n",
      "=================================================================\n",
      "model_12 (Model)             (None, 64)                278992    \n",
      "_________________________________________________________________\n",
      "dropout_19 (Dropout)         (None, 64)                0         \n",
      "_________________________________________________________________\n",
      "dense_31 (Dense)             (None, 50)                3250      \n",
      "_________________________________________________________________\n",
      "dropout_20 (Dropout)         (None, 50)                0         \n",
      "_________________________________________________________________\n",
      "dense_32 (Dense)             (None, 2)                 102       \n",
      "=================================================================\n",
      "Total params: 282,344\n",
      "Trainable params: 3,352\n",
      "Non-trainable params: 278,992\n",
      "_________________________________________________________________\n",
      "None\n"
     ]
    }
   ],
   "source": [
    "trans_model = transfer_model(cnn_glove )"
   ]
  },
  {
   "cell_type": "code",
   "execution_count": 157,
   "metadata": {},
   "outputs": [
    {
     "name": "stdout",
     "output_type": "stream",
     "text": [
      "Train on 75 samples, validate on 25 samples\n",
      "Epoch 1/10\n",
      "75/75 [==============================] - 0s 319us/step - loss: 0.4310 - acc: 0.8000 - val_loss: 0.2475 - val_acc: 0.9600\n",
      "Epoch 2/10\n",
      "75/75 [==============================] - 0s 199us/step - loss: 0.3631 - acc: 0.8333 - val_loss: 0.2463 - val_acc: 0.9600\n",
      "Epoch 3/10\n",
      "75/75 [==============================] - 0s 187us/step - loss: 0.4645 - acc: 0.7600 - val_loss: 0.2463 - val_acc: 0.9600\n",
      "Epoch 4/10\n",
      "75/75 [==============================] - 0s 186us/step - loss: 0.4973 - acc: 0.7467 - val_loss: 0.2473 - val_acc: 0.9600\n",
      "Epoch 5/10\n",
      "75/75 [==============================] - 0s 199us/step - loss: 0.4031 - acc: 0.8000 - val_loss: 0.2475 - val_acc: 0.9600\n",
      "Epoch 6/10\n",
      "75/75 [==============================] - 0s 199us/step - loss: 0.3621 - acc: 0.8467 - val_loss: 0.2462 - val_acc: 0.9600\n",
      "Epoch 7/10\n",
      "75/75 [==============================] - 0s 199us/step - loss: 0.4091 - acc: 0.8200 - val_loss: 0.2448 - val_acc: 0.9600\n",
      "Epoch 8/10\n",
      "75/75 [==============================] - 0s 199us/step - loss: 0.4849 - acc: 0.8000 - val_loss: 0.2440 - val_acc: 0.9600\n",
      "Epoch 9/10\n",
      "75/75 [==============================] - 0s 199us/step - loss: 0.3897 - acc: 0.8133 - val_loss: 0.2422 - val_acc: 0.9600\n",
      "Epoch 10/10\n",
      "75/75 [==============================] - 0s 186us/step - loss: 0.4401 - acc: 0.8067 - val_loss: 0.2394 - val_acc: 0.9600\n"
     ]
    }
   ],
   "source": [
    "# avec transfer \n",
    "essai = trans_model.fit(x_train_2, hot_y_2, validation_data=(x_valid_2, hot_y_valid_2), epochs=10, batch_size=20)"
   ]
  },
  {
   "cell_type": "code",
   "execution_count": 158,
   "metadata": {},
   "outputs": [
    {
     "name": "stdout",
     "output_type": "stream",
     "text": [
      "Train on 75 samples, validate on 25 samples\n",
      "Epoch 1/10\n",
      "75/75 [==============================] - 1s 17ms/step - loss: 1.0412 - acc: 0.3600 - val_loss: 0.5947 - val_acc: 0.6800\n",
      "Epoch 2/10\n",
      "75/75 [==============================] - 0s 598us/step - loss: 0.7583 - acc: 0.5133 - val_loss: 0.4574 - val_acc: 0.8800\n",
      "Epoch 3/10\n",
      "75/75 [==============================] - 0s 798us/step - loss: 0.6169 - acc: 0.6600 - val_loss: 0.4108 - val_acc: 0.8800\n",
      "Epoch 4/10\n",
      "75/75 [==============================] - 0s 838us/step - loss: 0.5859 - acc: 0.7133 - val_loss: 0.3818 - val_acc: 0.8800\n",
      "Epoch 5/10\n",
      "75/75 [==============================] - 0s 851us/step - loss: 0.4927 - acc: 0.7600 - val_loss: 0.3666 - val_acc: 0.8800\n",
      "Epoch 6/10\n",
      "75/75 [==============================] - 0s 811us/step - loss: 0.5611 - acc: 0.7200 - val_loss: 0.3560 - val_acc: 0.8800\n",
      "Epoch 7/10\n",
      "75/75 [==============================] - 0s 837us/step - loss: 0.5794 - acc: 0.6867 - val_loss: 0.3522 - val_acc: 0.8800\n",
      "Epoch 8/10\n",
      "75/75 [==============================] - 0s 638us/step - loss: 0.5990 - acc: 0.7533 - val_loss: 0.3494 - val_acc: 0.8800\n",
      "Epoch 9/10\n",
      "75/75 [==============================] - 0s 519us/step - loss: 0.4796 - acc: 0.7733 - val_loss: 0.3460 - val_acc: 0.8800\n",
      "Epoch 10/10\n",
      "75/75 [==============================] - 0s 545us/step - loss: 0.4976 - acc: 0.7533 - val_loss: 0.3451 - val_acc: 0.8800\n"
     ]
    }
   ],
   "source": [
    "# sans transfer \n",
    "cnn_glove1 = mult_conv_glove()\n",
    "essai2 = cnn_glove1.fit(x_train_2, hot_y_2, validation_data=(x_valid_2, hot_y_valid_2), epochs=10, batch_size=20)\n"
   ]
  },
  {
   "cell_type": "markdown",
   "metadata": {},
   "source": [
    "# Analyse en temps réel \n",
    "\n",
    "On utilise la librairie tweepy pour accéder aux tweets en temps réel, textblob pour traduire les tweets en anglais (pour ceux qui ne le sont déja pas).\n",
    "\n",
    "Déroulement : \n",
    "- On requete un mot clé, le code se charge de récolter les tweets contenant ce mot clé en direct \n",
    "- On traduit en anglais si nécessaire et on applique les prétraitements classiques sur les tweets \n",
    "- On utilise un des modèles (au choix ici cnn_glove) pour prédire le sentiment de chacun des tweets récoltés \n",
    "\n",
    "Une extension à cela pourrait être d'associer les sentiments des tweets à un topic modelling (associer les sujets aux sentiments )  par rapport à un mot clé, cela pourrait par exemple aider à décrytper des news autours d'un sujet/ d'une personne / d'une entreprise en tendance sur twitter "
   ]
  },
  {
   "cell_type": "code",
   "execution_count": 201,
   "metadata": {},
   "outputs": [
    {
     "name": "stdout",
     "output_type": "stream",
     "text": [
      "[[ 0  0  0  0  0  0  0  0  2 53]]\n"
     ]
    },
    {
     "data": {
      "text/plain": [
       "1"
      ]
     },
     "execution_count": 201,
     "metadata": {},
     "output_type": "execute_result"
    }
   ],
   "source": [
    "def clean_tweet(tweet):\n",
    "    dict= {}\n",
    "    data = {'text': [tweet]}\n",
    "    df3= pd.DataFrame.from_dict(data)\n",
    "    df3['clean_text'] = tc.transform(df3['text'])\n",
    "    df3['tokenized'] = df3['clean_text'].apply(lambda row: tokenize(row))\n",
    "    df3['tokenized'] = df3['tokenized'].apply(lambda row: remove_stopwords(row))\n",
    "    df3['tokenized_int'] = df3['tokenized'].apply(lambda x: transform_to_ids(x))\n",
    "    x = df3['tokenized_int'].loc[0] \n",
    "    x= np.array(x)\n",
    "    x = x.reshape(1,-1)\n",
    "    x_pad = pad_sequences(x, maxlen=maxlen, value=0)\n",
    "    \n",
    "    return x_pad\n",
    "tweet_int = clean_tweet(\"salut good and you happy !!!\")\n",
    "print(tweet_int)\n",
    "\n",
    "np.argmax(cnn_glove.predict(tweet_int), axis= 1)[0]"
   ]
  },
  {
   "cell_type": "code",
   "execution_count": 205,
   "metadata": {},
   "outputs": [
    {
     "name": "stdout",
     "output_type": "stream",
     "text": [
      "Positive or neutral tweets percentage: 55.913978494623656 %\n",
      "Negative tweets percentage: 44.086021505376344 %\n",
      "\n",
      "\n",
      "Negative tweets:\n",
      "RT @MaddowBlog: If that quarter billion dollar magic trick Donald Trump tried to play with that financial statement is, in fact, evidence o…\n",
      "RT @realJeffreyP: Remember, frmr. U.S. Attorney Dennis Burke, my old colleague, was the United States Attorney who resigned in shame during…\n",
      "RT @leeleeb50: Due to the success of the 5 D's of trump, I thought I should start from the beginning....with A\n",
      "\n",
      "asshole\n",
      "asshat\n",
      "assclown\n",
      "aby…\n",
      "RT @sbg1: The bills are coming due for Trump, and if there’s one thing we know about the President it’s that he doesn’t like to pay his bil…\n",
      "RT @scooze007: @realDonaldTrump You should be worried about the lies you told on security clearances for your family. I would think you are…\n",
      "@Musicbizfraud @CNN @MichaelCohen212 @realDonaldTrump You have a poor understanding of how politics work.  Trump is… https://t.co/wAvS6C3Zs5\n",
      "RT @SitterKitty: A person I worked with who had a clearance lost hers because she neglected to mention a French pen pal. The Trump Crime Fa…\n",
      "RT @Sum_Else_Thing: @KaczTed The Republicans in office, including Trump, still have a boomer's presumptive moderateness. They think the sys…\n",
      "RT @TaxReformExpert: Democrat Senator Richard Blumenthal thinks Donald Trump Jr. lied under oath.\n",
      "\n",
      "This is the same man who actually lied a…\n",
      "RT @nahaltoosi: What is it like to be a woman at the White House? A National Security Council staffer described walking behind another woma…\n",
      "\n",
      "\n",
      "Positive tweets:\n",
      "RT @funder: Otto Warmbier was arrested by North Korean officials and held for one year five months and ten days. This is an American who ma…\n",
      "RT @RealKyleMorris: President Trump to U.S. troops in Alaska: \"We salute you, we thank you for your incredible service, we love you, God bl…\n",
      "@SallyAlbright And...you are still my hero.  Bernie lacks transparency, just like Trump.  And they belong to a cult… https://t.co/amnANHLri3\n",
      "RT @GOP: “Good for the prez, and just what we expected in noting the other day that ‘his history suggests he’s always willing to walk away…\n",
      "RT @DonaldJTrumpJr: Michael Cohen pitched book claiming Trump was not a liar \n",
      "\n",
      "‘Everything he wanted to say about Trump was positive’ added…\n",
      "RT @Jordan_Sather_: Eric Trump tweeted and deleted a “Boom” yesterday.\n",
      "\n",
      "James Woods tweeted and deleted simply a “Q” today.\n",
      "\n",
      "Loving the sub…\n",
      "I find it troubling that Congress finds all the things going on in the Trump administration to be the new normal. W… https://t.co/MVmgcN1ET2\n",
      "RT @Mimirocah1: Digging a deeper hole. The recording we’ve already heard of Trump &amp; Cohen talking about the payments shows this is a lie (&amp;…\n",
      "@rcooley123 Great, let's start with Trump's 60M base check them first. PROTECT OUR CHILDREN FROM THESE NUTS!\n",
      "RT @jdawsey1: Jared and Ivanka lobbied Trump to overrule career staff and give Kushner the clearance despite their serious concerns. Kelly…\n",
      "\n",
      "\n",
      "Nombre de tweets :\n",
      "93\n",
      "[{'text': 'RT @funder: Otto Warmbier was arrested by North Korean officials and held for one year five months and ten days. This is an American who ma…', 'sentiment': 'positive'}, {'text': 'RT @MaddowBlog: If that quarter billion dollar magic trick Donald Trump tried to play with that financial statement is, in fact, evidence o…', 'sentiment': 'negative'}, {'text': 'RT @realJeffreyP: Remember, frmr. U.S. Attorney Dennis Burke, my old colleague, was the United States Attorney who resigned in shame during…', 'sentiment': 'negative'}, {'text': \"RT @leeleeb50: Due to the success of the 5 D's of trump, I thought I should start from the beginning....with A\\n\\nasshole\\nasshat\\nassclown\\naby…\", 'sentiment': 'negative'}, {'text': 'RT @RealKyleMorris: President Trump to U.S. troops in Alaska: \"We salute you, we thank you for your incredible service, we love you, God bl…', 'sentiment': 'positive'}]\n"
     ]
    }
   ],
   "source": [
    "\n",
    "\n",
    "import re \n",
    "import tweepy \n",
    "from tweepy import OAuthHandler \n",
    "from textblob import TextBlob \n",
    "\n",
    "class TwitterClient(object): \n",
    "\n",
    "    ''' \n",
    "    Generic Twitter Class for sentiment analysis. \n",
    "    '''\n",
    "    def __init__(self):\n",
    "        \n",
    "        ''' \n",
    "        Class constructor or initialization method. \n",
    "        '''\n",
    "        #Variables that contains the user credentials to access Twitter API \n",
    "        access_token = \"\"\n",
    "        access_token_secret = \"cr\"\n",
    "        consumer_key = \"\"\n",
    "        consumer_secret = \"\"\n",
    "\n",
    "        # attempt authentication \n",
    "        try: \n",
    "            # create OAuthHandler object \n",
    "            self.auth = OAuthHandler(consumer_key, consumer_secret) \n",
    "            # set access token and secret \n",
    "            self.auth.set_access_token(access_token, access_token_secret) \n",
    "            # create tweepy API object to fetch tweets \n",
    "            self.api = tweepy.API(self.auth) \n",
    "        except: \n",
    "            print(\"Error: Authentication Failed\") \n",
    "\n",
    "   \n",
    "    \n",
    "    def clean_tweet(self,  tweet):\n",
    "        dict= {}\n",
    "        data = {'text': [tweet]}\n",
    "        df3= pd.DataFrame.from_dict(data)\n",
    "        df3['clean_text'] = tc.transform(df3['text'])\n",
    "        df3['tokenized'] = df3['clean_text'].apply(lambda row: tokenize(row))\n",
    "        df3['tokenized'] = df3['tokenized'].apply(lambda row: remove_stopwords(row))\n",
    "        df3['tokenized_int'] = df3['tokenized'].apply(lambda x: transform_to_ids(x))\n",
    "        x = df3['tokenized_int'].loc[0] \n",
    "        x= np.array(x)\n",
    "        x = x.reshape(1,-1)\n",
    "        x_pad = pad_sequences(x, maxlen=maxlen, value=0)\n",
    "\n",
    "        return x_pad\n",
    "    \n",
    "    \n",
    "    \n",
    "\n",
    "    def get_tweet_sentiment(self, tweet): \n",
    "        ''' \n",
    "        Utility function to classify sentiment of passed tweet \n",
    "        using textblob's sentiment method \n",
    "        '''\n",
    "        # create TextBlob object of passed tweet text \n",
    "        #analysis = TextBlob(self.clean_tweet(tweet))\n",
    "        \n",
    "        # on utilise ici notre modèle cnn_glove (réseau convolutionel avec glove)\n",
    "        \n",
    "        tweet_int = self.clean_tweet(tweet)\n",
    "\n",
    "        analysis = np.argmax(cnn_glove.predict(tweet_int), axis= 1)[0]\n",
    "        # set sentiment \n",
    "        if analysis> 0: \n",
    "            return 'positive'\n",
    "        else:\n",
    "            return 'negative'\n",
    "\n",
    "    def get_tweets(self, query, count = 10, traduction =True): \n",
    "        ''' \n",
    "        Main function to fetch tweets and parse them. \n",
    "        '''\n",
    "        # empty list to store parsed tweets \n",
    "        tweets = [] \n",
    "\n",
    "        try: \n",
    "            # call twitter api to fetch tweets \n",
    "            fetched_tweets = self.api.search(q = query, count = count) \n",
    "\n",
    "            # parsing tweets one by one \n",
    "            for tweet in fetched_tweets: \n",
    "                # empty dictionary to store required params of a tweet \n",
    "                parsed_tweet = {} \n",
    "\n",
    "                \n",
    "                \n",
    "                # permet de traduire en anglais pour appliquer nos predictions sur des tweet de langues ! = anglais \n",
    "                if traduction == True:\n",
    "                        # saving text of tweet \n",
    "                    try :\n",
    "                        en_blob = TextBlob(tweet.text)\n",
    "                        translate_tweet = str(en_blob.translate(to='en'))\n",
    "                        parsed_tweet['text'] = translate_tweet\n",
    "                        parsed_tweet['sentiment'] = self.get_tweet_sentiment(translate_tweet)\n",
    "                    except : \n",
    "                        parsed_tweet['text'] = tweet.text \n",
    "                        # saving sentiment of tweet \n",
    "                        parsed_tweet['sentiment'] = self.get_tweet_sentiment(tweet.text) \n",
    "                        \n",
    "                else:\n",
    "                         # saving text of tweet \n",
    "\n",
    "                    parsed_tweet['text'] = tweet.text     \n",
    "                    # saving sentiment of tweet \n",
    "                    parsed_tweet['sentiment'] = self.get_tweet_sentiment(tweet.text)  \n",
    "                    \n",
    "\n",
    "                # appending parsed tweet to tweets list \n",
    "                if tweet.retweet_count > 0: \n",
    "                    # if tweet has retweets, ensure that it is appended only once \n",
    "                    if parsed_tweet not in tweets: \n",
    "                        tweets.append(parsed_tweet) \n",
    "                else: \n",
    "                    tweets.append(parsed_tweet) \n",
    "\n",
    "            # return parsed tweets \n",
    "            return tweets \n",
    "\n",
    "        except tweepy.TweepError as e: \n",
    "            # print error (if any) \n",
    "            print(\"Error : \" + str(e)) \n",
    "\n",
    "def main(): \n",
    "    # creating object of TwitterClient Class \n",
    "    api = TwitterClient() \n",
    "    # calling function to get tweets \n",
    "    tweets = api.get_tweets(query = 'trump', count = 200) \n",
    "\n",
    "    # picking positive tweets from tweets \n",
    "    ptweets = [tweet for tweet in tweets if tweet['sentiment'] == 'positive'] \n",
    "    # percentage of positive tweets \n",
    "    print(\"Positive or neutral tweets percentage: {} %\".format(100*len(ptweets)/len(tweets))) \n",
    "    # picking negative tweets from tweets \n",
    "    ntweets = [tweet for tweet in tweets if tweet['sentiment'] == 'negative'] \n",
    "    # percentage of negative tweets \n",
    "    print(\"Negative tweets percentage: {} %\".format(100*len(ntweets)/len(tweets))) \n",
    "   \n",
    "  \n",
    "\n",
    "    # printing first 5 negative tweets \n",
    "    print(\"\\n\\nNegative tweets:\") \n",
    "    for tweet in ntweets[:10]: \n",
    "        print(tweet['text']) \n",
    "        \n",
    "    \n",
    "    # printing first 5 positive tweets \n",
    "    print(\"\\n\\nPositive tweets:\") \n",
    "    for tweet in ptweets[:10]: \n",
    "        print(tweet['text']) \n",
    "\n",
    "    # printing first 5 neutral tweets \n",
    "    print(\"\\n\\nNombre de tweets :\") \n",
    "    print(len(tweets))\n",
    "    print(tweets[:5])\n",
    "    \n",
    "    \n",
    "if __name__ == \"__main__\": \n",
    "    # calling main function \n",
    "    main() \n"
   ]
  },
  {
   "cell_type": "code",

   "execution_count": 159,
   "metadata": {},
   "outputs": [
    {
     "name": "stdout",
     "output_type": "stream",
     "text": [
      "Positive tweets percentage: 34.666666666666664 %\n",
      "Negative tweets percentage: 12.0 %\n",
      "Neutral tweets percentage: 53.333333333333336 % \\ \n",
      "\n",
      "\n",
      "Positive tweets:\n",
      "\"Manchester, we think about it, but we want to win in Caen,\" says Thomas Tuchel https://t.co/xQqr31hJzU\n",
      "RT @Juampi_HWJ: You still have to remember that the channel Team 21 made a special Manchester United night the day before the match at Old ...\n",
      "RT @SiPhillipsSport: Real Madrid’s move for Eden Hazard is dependent upon prising Neymar or Kylian Mbappe away from PSG.\n",
      "\n",
      "Hazard is therefo…\n",
      "RT @abdellahboulma: If the PSG wins the Coupe de France this year, it will be its 13th trophy in 49 years including 8 trophies before the arrival of ...\n",
      "RT @360Sources: David de Gea wants over £385,000 per week but Manchester United don’t want to pay this astronomical fee. DDG’s agent Jorge…\n",
      "@Pallomari1 Guendouzi 20 years old starter week in week out playing in Europe and PSG interested apparently! £2.99 Low risk\n",
      "RT @oAzzoo: Top 10 deal manufacturers (club - Brand - Amount - end of contract).\n",
      "Good @NikeFrance will ensure with the PSG 😉 https: ...\n",
      "RT @LFCTransferRoom: Liverpool have conceded the second least amount goals in the top 5 Leagues across Europe (15).\n",
      "\n",
      "PSG have conceded 14 b…\n",
      "@ floriangzd1 @nikefootball @nikefootfrance @NikeFrance @PSG_inside Surely but with a swimsuit such as your design ... https://t.co/M7AUrFWdXM\n",
      "Remember I do not even say that time is okay.\n",
      "\n",
      "\n",
      "Negative tweets:\n",
      "@ joshjosh775 @RubirRincon @ElCalvoCule It is difficult to fish in PSG or City. They go over pasta.\n",
      "@luwi_i_am He’s needs rest for epl games. If we score 1 psg will score 4. No way we’re going to the next round bro… https://t.co/YxS7SkRRFu\n",
      "RT @futtmais: \"One day after PSG 4x0 Barcelona, ​​at lunch at home, my friends said that there was no way to turn that game around. They said that the P ...\n",
      "@brunovicari twisted is also very demanding this is Brazilian football. want to play equal Manchester city, PSG ... https://t.co/Dhk6CGdBP9\n",
      "RT @Riou_Zakii: We agree that it was Narcos who mentally destroyed Lacrim?\n",
      "RT @Football_TaIk: 🗣️ Reporter: \"Were you disappointed by the insults of the Monaco supporters when you returned to the club with PSG?\"…\n",
      "@brightstunt @Ahmed1K2 @ManUtd @D_DeGea The PSG match was a matter of corrupt refereeing. Kimpembe gets rightfully… https://t.co/dVADrMnvmt\n",
      "RT @CuriosidadesEU: 🗣️ Reporter: \"Were you disappointed with the insults of Monaco fans when you returned to the club with PSG?\"\n",
      "\n",
      "🗣️ Mbap ...\n",
      "RT @RMCsport: Cavani missing this weekend #PSG #rmclive\n",
      "https://t.co/uf7k2uevWU\n",
      "\n",
      "\n",
      "Nombre de tweets :\n",
      "75\n",
      "[{'text': 'PSG-Manchester: Solskjaer recovers Rashford and crosses fingers for Martial https://t.co/w9ouXpH7b3', 'sentiment': 'neutral'}, {'text': '\"Manchester, we think about it, but we want to win in Caen,\" says Thomas Tuchel https://t.co/xQqr31hJzU', 'sentiment': 'positive'}, {'text': '@ joshjosh775 @RubirRincon @ElCalvoCule It is difficult to fish in PSG or City. They go over pasta.', 'sentiment': 'negative'}, {'text': '@dima_PSG @BB ___ 1l @ S8_TE @ SajedM10 @ 3IfWxj1P9zux8Pk @ Zaid_liom10 @BLACK_HORNETAMV يا عمرييييي', 'sentiment': 'neutral'}, {'text': 'RT @UnitedsUpdate: 🇫🇷 Pogba since OGS took over at United:\\n\\nvs Cardiff = 🎯🎯\\nvs H’field = ⚽⚽\\nvs B’mouth = ⚽⚽🎯\\nvs Newcastle = ❌\\nvs Spurs = 🎯…', 'sentiment': 'neutral'}]\n"
     ]
    }
   ],
   "source": [
    "# version orignale avec TextBlob \n",
    "\n",
    "import re \n",
    "import tweepy \n",
    "from tweepy import OAuthHandler \n",
    "from textblob import TextBlob \n",
    "\n",
    "class TwitterClient(object): \n",
    "\n",
    "    ''' \n",
    "    Generic Twitter Class for sentiment analysis. \n",
    "    '''\n",
    "    def __init__(self):\n",
    "        \n",
    "        ''' \n",
    "        Class constructor or initialization method. \n",
    "        '''\n",
    "        #Variables that contains the user credentials to access Twitter API \n",
    "        access_token = \"\"\n",
    "        access_token_secret = \"cr\"\n",
    "        consumer_key = \"\"\n",
    "        consumer_secret = \"\"\n",
    "\n",
    "        # attempt authentication \n",
    "        try: \n",
    "            # create OAuthHandler object \n",
    "            self.auth = OAuthHandler(consumer_key, consumer_secret) \n",
    "            # set access token and secret \n",
    "            self.auth.set_access_token(access_token, access_token_secret) \n",
    "            # create tweepy API object to fetch tweets \n",
    "            self.api = tweepy.API(self.auth) \n",
    "        except: \n",
    "            print(\"Error: Authentication Failed\") \n",
    "\n",
    "    def clean_tweet(self, tweet): \n",
    "        ''' \n",
    "        Utility function to clean tweet text by removing links, special characters \n",
    "        using simple regex statements. \n",
    "        '''\n",
    "        return ' '.join(re.sub(\"(@[A-Za-z0-9]+)|([^0-9A-Za-z \\t]) |(\\w+:\\/\\/\\S+)\", \" \", tweet).split()) \n",
    "\n",
    "    def get_tweet_sentiment(self, tweet): \n",
    "        ''' \n",
    "        Utility function to classify sentiment of passed tweet \n",
    "        using textblob's sentiment method \n",
    "        '''\n",
    "        # create TextBlob object of passed tweet text \n",
    "        analysis = TextBlob(self.clean_tweet(tweet)) \n",
    "        # set sentiment \n",
    "        if analysis.sentiment.polarity > 0: \n",
    "            return 'positive'\n",
    "        elif analysis.sentiment.polarity == 0: \n",
    "            return 'neutral'\n",
    "        else: \n",
    "            return 'negative'\n",
    "\n",
    "    def get_tweets(self, query, count = 10, traduction =True): \n",
    "        ''' \n",
    "        Main function to fetch tweets and parse them. \n",
    "        '''\n",
    "        # empty list to store parsed tweets \n",
    "        tweets = [] \n",
    "\n",
    "        try: \n",
    "            # call twitter api to fetch tweets \n",
    "            fetched_tweets = self.api.search(q = query, count = count) \n",
    "\n",
    "            # parsing tweets one by one \n",
    "            for tweet in fetched_tweets: \n",
    "                # empty dictionary to store required params of a tweet \n",
    "                parsed_tweet = {} \n",
    "\n",
    "                \n",
    "                \n",
    "                \n",
    "                # ICI que les modifs sont à faire \n",
    "                # permet de traduire en anglais pour appliquer nos predictions sur des tweet \n",
    "                if traduction == True:\n",
    "                        # saving text of tweet \n",
    "                    try :\n",
    "                        en_blob = TextBlob(tweet.text)\n",
    "                        translate_tweet = str(en_blob.translate(to='en'))\n",
    "                        parsed_tweet['text'] = translate_tweet\n",
    "                        parsed_tweet['sentiment'] = self.get_tweet_sentiment(translate_tweet)\n",
    "                    except : \n",
    "                        parsed_tweet['text'] = tweet.text \n",
    "                        # saving sentiment of tweet \n",
    "                        parsed_tweet['sentiment'] = self.get_tweet_sentiment(tweet.text) \n",
    "                        \n",
    "                else:\n",
    "                         # saving text of tweet \n",
    "\n",
    "                    parsed_tweet['text'] = tweet.text     # appliquer les traitements habituel sur les textes comme sur le notebook \n",
    "\n",
    "                    # saving sentiment of tweet \n",
    "                    parsed_tweet['sentiment'] = self.get_tweet_sentiment(tweet.text)   # au lieu d'utiliser cette fonction on appelle la fonction predict (cnn, rnn )\n",
    "\n",
    "                    \n",
    "                    \n",
    "                    \n",
    "                    \n",
    "                    \n",
    "                    \n",
    "                    \n",
    "\n",
    "                # appending parsed tweet to tweets list \n",
    "                if tweet.retweet_count > 0: \n",
    "                    # if tweet has retweets, ensure that it is appended only once \n",
    "                    if parsed_tweet not in tweets: \n",
    "                        tweets.append(parsed_tweet) \n",
    "                else: \n",
    "                    tweets.append(parsed_tweet) \n",
    "\n",
    "            # return parsed tweets \n",
    "            return tweets \n",
    "\n",
    "        except tweepy.TweepError as e: \n",
    "            # print error (if any) \n",
    "            print(\"Error : \" + str(e)) \n",
    "\n",
    "def main(): \n",
    "    # creating object of TwitterClient Class \n",
    "    api = TwitterClient() \n",
    "    # calling function to get tweets \n",
    "    tweets = api.get_tweets(query = 'PSG', count = 200) \n",
    "\n",
    "    # picking positive tweets from tweets \n",
    "    ptweets = [tweet for tweet in tweets if tweet['sentiment'] == 'positive'] \n",
    "    # percentage of positive tweets \n",
    "    print(\"Positive tweets percentage: {} %\".format(100*len(ptweets)/len(tweets))) \n",
    "    # picking negative tweets from tweets \n",
    "    ntweets = [tweet for tweet in tweets if tweet['sentiment'] == 'negative'] \n",
    "    # percentage of negative tweets \n",
    "    print(\"Negative tweets percentage: {} %\".format(100*len(ntweets)/len(tweets))) \n",
    "    # percentage of neutral tweets \n",
    "    print(\"Neutral tweets percentage: {} % \\ \".format(100*(len(tweets) - len(ntweets) - len(ptweets))/len(tweets))) \n",
    "\n",
    "    # printing first 5 positive tweets \n",
    "    print(\"\\n\\nPositive tweets:\") \n",
    "    for tweet in ptweets[:10]: \n",
    "        print(tweet['text']) \n",
    "\n",
    "    # printing first 5 negative tweets \n",
    "    print(\"\\n\\nNegative tweets:\") \n",
    "    for tweet in ntweets[:10]: \n",
    "        print(tweet['text']) \n",
    "\n",
    "    # printing first 5 neutral tweets \n",
    "    print(\"\\n\\nNombre de tweets :\") \n",
    "    print(len(tweets))\n",
    "    print(tweets[:5])\n",
    "    \n",
    "    \n",
    "if __name__ == \"__main__\": \n",
    "    # calling main function \n",
    "    main() \n"
   ]
  },
  {
   "cell_type": "code",
   "execution_count": null,
   "metadata": {
    "collapsed": true
   },
   "outputs": [],
   "source": []
  }
 ],
 "metadata": {
  "kernelspec": {
   "display_name": "Python 3",
   "language": "python",
   "name": "python3"
  },
  "language_info": {
   "codemirror_mode": {
    "name": "ipython",
    "version": 3
   },
   "file_extension": ".py",
   "mimetype": "text/x-python",
   "name": "python",
   "nbconvert_exporter": "python",
   "pygments_lexer": "ipython3",
   "version": "3.6.3"
  }
 },
 "nbformat": 4,
 "nbformat_minor": 2
}
